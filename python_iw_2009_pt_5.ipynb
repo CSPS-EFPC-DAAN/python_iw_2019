{
 "cells": [
  {
   "cell_type": "code",
   "execution_count": null,
   "metadata": {},
   "outputs": [],
   "source": [
    "5.\n",
    "- staticmethod, classmethod\n",
    "- descriptors\n",
    "- custom containers\n",
    "- subclasses and MRO\n",
    "- metaclasses"
   ]
  },
  {
   "cell_type": "markdown",
   "metadata": {},
   "source": [
    "## staticmethod, classmethod\n",
    "Methods without `self`"
   ]
  },
  {
   "cell_type": "code",
   "execution_count": 68,
   "metadata": {},
   "outputs": [
    {
     "data": {
      "text/plain": [
       "<MessageBox Alert>"
      ]
     },
     "execution_count": 68,
     "metadata": {},
     "output_type": "execute_result"
    }
   ],
   "source": [
    "import json\n",
    "\n",
    "class MessageBox:\n",
    "    def __init__(self, title_text, body_text, dismiss_button=\"Okay\"):\n",
    "        self.title = title_text\n",
    "        self.body = body_text\n",
    "        self.buttons = [dismiss_button]\n",
    "\n",
    "    def __repr__(self):\n",
    "        return f'<{self.__class__.__name__} {self.title}>'\n",
    "    \n",
    "    @classmethod\n",
    "    def from_json(cls, jtext):\n",
    "        if not cls.valid_json(jtext):\n",
    "            raise ValueError('Invalid JSON for this class')\n",
    "        return cls(**json.loads(jtext))\n",
    "    \n",
    "    @staticmethod\n",
    "    def valid_json(jtext):\n",
    "        data = json.loads(jtext)\n",
    "        if not isinstance(data, dict):\n",
    "            return False\n",
    "        \n",
    "        required = {'title_text', 'body_text'}\n",
    "        everything = required | {'dismiss_button'}\n",
    "        return required <= set(data) <= everything\n",
    "\n",
    "m = MessageBox.from_json('''\n",
    "{\n",
    "  \"title_text\": \"Alert\",\n",
    "  \"body_text\": \"Something bad happened\"\n",
    "}''')\n",
    "m"
   ]
  },
  {
   "cell_type": "code",
   "execution_count": 69,
   "metadata": {},
   "outputs": [
    {
     "data": {
      "text/plain": [
       "['Okay']"
      ]
     },
     "execution_count": 69,
     "metadata": {},
     "output_type": "execute_result"
    }
   ],
   "source": [
    "m.buttons"
   ]
  },
  {
   "cell_type": "code",
   "execution_count": 70,
   "metadata": {},
   "outputs": [
    {
     "data": {
      "text/plain": [
       "False"
      ]
     },
     "execution_count": 70,
     "metadata": {},
     "output_type": "execute_result"
    }
   ],
   "source": [
    "MessageBox.valid_json('42')"
   ]
  },
  {
   "cell_type": "code",
   "execution_count": 64,
   "metadata": {},
   "outputs": [
    {
     "data": {
      "text/plain": [
       "True"
      ]
     },
     "execution_count": 64,
     "metadata": {},
     "output_type": "execute_result"
    }
   ],
   "source": [
    "MessageBox.valid_json('{\"title_text\":\"a\",\"body_text\":\"b\"}')"
   ]
  },
  {
   "cell_type": "code",
   "execution_count": 71,
   "metadata": {},
   "outputs": [
    {
     "ename": "ValueError",
     "evalue": "Invalid JSON for this class",
     "output_type": "error",
     "traceback": [
      "\u001b[0;31m---------------------------------------------------------------------------\u001b[0m",
      "\u001b[0;31mValueError\u001b[0m                                Traceback (most recent call last)",
      "\u001b[0;32m<ipython-input-71-3132c9cf4daf>\u001b[0m in \u001b[0;36m<module>\u001b[0;34m\u001b[0m\n\u001b[0;32m----> 1\u001b[0;31m \u001b[0mMessageBox\u001b[0m\u001b[0;34m.\u001b[0m\u001b[0mfrom_json\u001b[0m\u001b[0;34m(\u001b[0m\u001b[0;34m'{\"title_text\":\"hello\"}'\u001b[0m\u001b[0;34m)\u001b[0m\u001b[0;34m\u001b[0m\u001b[0;34m\u001b[0m\u001b[0m\n\u001b[0m",
      "\u001b[0;32m<ipython-input-68-b5132b127e13>\u001b[0m in \u001b[0;36mfrom_json\u001b[0;34m(cls, jtext)\u001b[0m\n\u001b[1;32m     13\u001b[0m     \u001b[0;32mdef\u001b[0m \u001b[0mfrom_json\u001b[0m\u001b[0;34m(\u001b[0m\u001b[0mcls\u001b[0m\u001b[0;34m,\u001b[0m \u001b[0mjtext\u001b[0m\u001b[0;34m)\u001b[0m\u001b[0;34m:\u001b[0m\u001b[0;34m\u001b[0m\u001b[0;34m\u001b[0m\u001b[0m\n\u001b[1;32m     14\u001b[0m         \u001b[0;32mif\u001b[0m \u001b[0;32mnot\u001b[0m \u001b[0mcls\u001b[0m\u001b[0;34m.\u001b[0m\u001b[0mvalid_json\u001b[0m\u001b[0;34m(\u001b[0m\u001b[0mjtext\u001b[0m\u001b[0;34m)\u001b[0m\u001b[0;34m:\u001b[0m\u001b[0;34m\u001b[0m\u001b[0;34m\u001b[0m\u001b[0m\n\u001b[0;32m---> 15\u001b[0;31m             \u001b[0;32mraise\u001b[0m \u001b[0mValueError\u001b[0m\u001b[0;34m(\u001b[0m\u001b[0;34m'Invalid JSON for this class'\u001b[0m\u001b[0;34m)\u001b[0m\u001b[0;34m\u001b[0m\u001b[0;34m\u001b[0m\u001b[0m\n\u001b[0m\u001b[1;32m     16\u001b[0m         \u001b[0;32mreturn\u001b[0m \u001b[0mcls\u001b[0m\u001b[0;34m(\u001b[0m\u001b[0;34m**\u001b[0m\u001b[0mjson\u001b[0m\u001b[0;34m.\u001b[0m\u001b[0mloads\u001b[0m\u001b[0;34m(\u001b[0m\u001b[0mjtext\u001b[0m\u001b[0;34m)\u001b[0m\u001b[0;34m)\u001b[0m\u001b[0;34m\u001b[0m\u001b[0;34m\u001b[0m\u001b[0m\n\u001b[1;32m     17\u001b[0m \u001b[0;34m\u001b[0m\u001b[0m\n",
      "\u001b[0;31mValueError\u001b[0m: Invalid JSON for this class"
     ]
    }
   ],
   "source": [
    "MessageBox.from_json('{\"title_text\":\"hello\"}')"
   ]
  },
  {
   "cell_type": "code",
   "execution_count": 72,
   "metadata": {},
   "outputs": [
    {
     "data": {
      "text/plain": [
       "<ConfirmBox Danger>"
      ]
     },
     "execution_count": 72,
     "metadata": {},
     "output_type": "execute_result"
    }
   ],
   "source": [
    "class ConfirmBox(MessageBox):\n",
    "    def __init__(self, title_text, body_text,\n",
    "                 dismiss_button='Cancel', confirm_button='Proceed'):\n",
    "        super().__init__(title_text, body_text, dismiss_button)\n",
    "        self.buttons.append(confirm_button)\n",
    "    \n",
    "    @staticmethod\n",
    "    def valid_json(jtext):\n",
    "        data = json.loads(jtext)\n",
    "        if not isinstance(data, dict):\n",
    "            return False\n",
    "        \n",
    "        required = {'title_text', 'body_text'}\n",
    "        everything = required | {'dismiss_button', 'confirm_button'}\n",
    "        return required <= set(data) <= everything\n",
    "\n",
    "c = ConfirmBox.from_json('''\n",
    "{\n",
    "  \"title_text\": \"Danger\",\n",
    "  \"body_text\": \"Vent radioactive gas?\",\n",
    "  \"confirm_button\": \"Yes I'm sure\"\n",
    "}''')\n",
    "c"
   ]
  },
  {
   "cell_type": "code",
   "execution_count": 73,
   "metadata": {},
   "outputs": [
    {
     "data": {
      "text/plain": [
       "['Cancel', \"Yes I'm sure\"]"
      ]
     },
     "execution_count": 73,
     "metadata": {},
     "output_type": "execute_result"
    }
   ],
   "source": [
    "c.buttons"
   ]
  },
  {
   "cell_type": "code",
   "execution_count": 75,
   "metadata": {},
   "outputs": [
    {
     "data": {
      "text/plain": [
       "True"
      ]
     },
     "execution_count": 75,
     "metadata": {},
     "output_type": "execute_result"
    }
   ],
   "source": [
    "ConfirmBox.valid_json(\n",
    "    '{\"title_text\":\"hi\",\"body_text\":\"how are you?\",'\n",
    "    '\"confirm_button\":\"good\",\"dismiss_button\":\"bad\"}')"
   ]
  },
  {
   "cell_type": "markdown",
   "metadata": {},
   "source": [
    "## Descriptors\n",
    "The power behind `property`, `classmethod` and `staticmethod`"
   ]
  },
  {
   "cell_type": "code",
   "execution_count": null,
   "metadata": {},
   "outputs": [],
   "source": [
    "class Tripwire:\n",
    "    def __get__(self):"
   ]
  }
 ],
 "metadata": {
  "kernelspec": {
   "display_name": "Python 3",
   "language": "python",
   "name": "python3"
  },
  "language_info": {
   "codemirror_mode": {
    "name": "ipython",
    "version": 3
   },
   "file_extension": ".py",
   "mimetype": "text/x-python",
   "name": "python",
   "nbconvert_exporter": "python",
   "pygments_lexer": "ipython3",
   "version": "3.6.7"
  }
 },
 "nbformat": 4,
 "nbformat_minor": 2
}
