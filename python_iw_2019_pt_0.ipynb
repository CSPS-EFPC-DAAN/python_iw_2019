{
 "cells": [
  {
   "cell_type": "markdown",
   "metadata": {},
   "source": [
    "# The Life of Python\n",
    "(the programming language)"
   ]
  },
  {
   "cell_type": "markdown",
   "metadata": {},
   "source": [
    "## Contents\n",
    "\n",
    "1.\n",
    "- flavour of python\n",
    "- names and values\n",
    "- numeric types\n",
    "- workshop\n",
    "\n",
    "2.\n",
    "- strings\n",
    "- tuple, list, dict and set\n",
    "- files and json\n",
    "- string formatting\n",
    "- workshop\n",
    "\n",
    "3.\n",
    "- if, elif and else\n",
    "- comparisons, boolean operations\n",
    "- for, break, continue and else\n",
    "- try, except, else and finally\n",
    "- functions and parameters\n",
    "- packing and unpacking\n",
    "- workshop\n",
    "\n",
    "4.\n",
    "- decorators\n",
    "- iteration in depth\n",
    "- generators\n",
    "- context managers\n",
    "- classes and attributes\n",
    "- special methods\n",
    "\n",
    "5.\n",
    "- descriptors\n",
    "- dynamic attributes\n",
    "- custom containers\n",
    "- subclasses and MRO\n",
    "- metaclasses\n",
    "\n",
    "6.\n",
    "- virtual environments\n",
    "- modules and packages\n",
    "- custom exceptions\n",
    "- pip and pypi\n",
    "- workshop: cowsay\n",
    "\n",
    "\n",
    "- type hints\n",
    "- async await\n"
   ]
  },
  {
   "cell_type": "code",
   "execution_count": null,
   "metadata": {},
   "outputs": [],
   "source": []
  }
 ],
 "metadata": {
  "kernelspec": {
   "display_name": "Python 3",
   "language": "python",
   "name": "python3"
  },
  "language_info": {
   "codemirror_mode": {
    "name": "ipython",
    "version": 3
   },
   "file_extension": ".py",
   "mimetype": "text/x-python",
   "name": "python",
   "nbconvert_exporter": "python",
   "pygments_lexer": "ipython3",
   "version": "3.6.7"
  }
 },
 "nbformat": 4,
 "nbformat_minor": 2
}
