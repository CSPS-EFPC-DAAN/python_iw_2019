{
 "cells": [
  {
   "cell_type": "markdown",
   "metadata": {},
   "source": [
    "# Transition to Python\n",
    "Python for developers familiar with other languages\n",
    "\n",
    "https://github.com/wardi/python_iw_2019\n",
    "\n",
    "Ian Ward  \n",
    "TBS CIOB  \n",
    "Open Data https://open.canada.ca  \n",
    "CKAN https://ckan.org  \n",
    "Ottawa Python https://www.meetup.com/ottawapython/  \n",
    "ian@excess.org"
   ]
  },
  {
   "cell_type": "markdown",
   "metadata": {},
   "source": [
    "## Contents\n",
    "\n",
    "1.\n",
    "- workshop: simple python script\n",
    "- flavour of python\n",
    "- names and values\n",
    "- numeric types\n",
    "- workshop\n",
    "\n",
    "2.\n",
    "- strings\n",
    "- tuple, list, dict and set\n",
    "- files and json\n",
    "- string formatting\n",
    "- workshop\n",
    "\n",
    "3.\n",
    "- if, elif and else\n",
    "- comparisons, boolean operations\n",
    "- for, break, continue and else\n",
    "- try, except, else and finally\n",
    "- functions and parameters\n",
    "- packing and unpacking\n",
    "- workshop\n",
    "\n",
    "4.\n",
    "- decorators\n",
    "- iteration\n",
    "- generators\n",
    "- context managers\n",
    "- classes and attributes\n",
    "- special methods\n",
    "- dynamic attributes\n",
    "- properties\n",
    "\n",
    "5.\n",
    "- staticmethod, classmethod\n",
    "- descriptors\n",
    "- custom containers\n",
    "- subclasses and MRO\n",
    "- metaclasses\n",
    "\n",
    "6.\n",
    "- virtual environments\n",
    "- modules and packages\n",
    "- custom exceptions\n",
    "- pip and pypi\n",
    "- workshop: whalesay\n",
    "\n",
    "\n",
    "- type hints\n",
    "- async await\n"
   ]
  },
  {
   "cell_type": "code",
   "execution_count": null,
   "metadata": {},
   "outputs": [],
   "source": []
  }
 ],
 "metadata": {
  "kernelspec": {
   "display_name": "Python 3",
   "language": "python",
   "name": "python3"
  },
  "language_info": {
   "codemirror_mode": {
    "name": "ipython",
    "version": 3
   },
   "file_extension": ".py",
   "mimetype": "text/x-python",
   "name": "python",
   "nbconvert_exporter": "python",
   "pygments_lexer": "ipython3",
   "version": "3.6.7"
  }
 },
 "nbformat": 4,
 "nbformat_minor": 2
}
