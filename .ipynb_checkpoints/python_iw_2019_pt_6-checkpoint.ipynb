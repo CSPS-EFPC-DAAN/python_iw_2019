{
 "cells": [
  {
   "cell_type": "markdown",
   "metadata": {},
   "source": [
    "## Virtual Environments"
   ]
  },
  {
   "cell_type": "code",
   "execution_count": 1,
   "metadata": {},
   "outputs": [
    {
     "data": {
      "text/plain": [
       "<module 'threading' from 'C:\\\\Users\\\\Public\\\\Anaconda3\\\\lib\\\\threading.py'>"
      ]
     },
     "execution_count": 1,
     "metadata": {},
     "output_type": "execute_result"
    }
   ],
   "source": [
    "import threading\n",
    "threading"
   ]
  },
  {
   "cell_type": "code",
   "execution_count": 3,
   "metadata": {},
   "outputs": [
    {
     "data": {
      "text/plain": [
       "<module 'numpy' from 'C:\\\\Users\\\\Public\\\\Anaconda3\\\\lib\\\\site-packages\\\\numpy\\\\__init__.py'>"
      ]
     },
     "execution_count": 3,
     "metadata": {},
     "output_type": "execute_result"
    }
   ],
   "source": [
    "import numpy as np\n",
    "np"
   ]
  },
  {
   "cell_type": "markdown",
   "metadata": {},
   "source": [
    "`(base) C:\\Users\\Ian Ward\\Documents>`__`python -m venv myvenv`__\n",
    "\n",
    "`(base) C:\\Users\\Ian Ward\\Documents>`__`myvenv\\Scripts\\activate`__\n",
    "\n",
    "`(myvenv) (base) C:\\Users\\Ian Ward\\Documents>`__`pip install ckanapi`__\n",
    "```\n",
    "Collecting ckanapi\n",
    "Collecting requests (from ckanapi)\n",
    "  Using cached https://files.pythonhosted.org/packages/7d/e3/20f3d364d6c8e5d2353c72a67778eb189176f08e873c9900e10c0287b84b/requests-2.21.0-py2.py3-none-any.whl\n",
    "Collecting docopt (from ckanapi)\n",
    "Requirement already satisfied: setuptools in c:\\users\\ian ward\\documents\\myvenv\\lib\\site-packages (from ckanapi) (39.0.1)\n",
    "Collecting idna<2.9,>=2.5 (from requests->ckanapi)\n",
    "  Using cached https://files.pythonhosted.org/packages/14/2c/cd551d81dbe15200be1cf41cd03869a46fe7226e7450af7a6545bfc474c9/idna-2.8-py2.py3-none-any.whl\n",
    "Collecting certifi>=2017.4.17 (from requests->ckanapi)\n",
    "  Using cached https://files.pythonhosted.org/packages/60/75/f692a584e85b7eaba0e03827b3d51f45f571c2e793dd731e598828d380aa/certifi-2019.3.9-py2.py3-none-any.whl\n",
    "Collecting chardet<3.1.0,>=3.0.2 (from requests->ckanapi)\n",
    "  Using cached https://files.pythonhosted.org/packages/bc/a9/01ffebfb562e4274b6487b4bb1ddec7ca55ec7510b22e4c51f14098443b8/chardet-3.0.4-py2.py3-none-any.whl\n",
    "Collecting urllib3<1.25,>=1.21.1 (from requests->ckanapi)\n",
    "  Using cached https://files.pythonhosted.org/packages/62/00/ee1d7de624db8ba7090d1226aebefab96a2c71cd5cfa7629d6ad3f61b79e/urllib3-1.24.1-py2.py3-none-any.whl\n",
    "Installing collected packages: idna, certifi, chardet, urllib3, requests, docopt, ckanapi\n",
    "Successfully installed certifi-2019.3.9 chardet-3.0.4 ckanapi-4.1 docopt-0.6.2 idna-2.8 requests-2.21.0 urllib3-1.24.1\n",
    "You are using pip version 10.0.1, however version 19.0.3 is available.\n",
    "You should consider upgrading via the 'python -m pip install --upgrade pip' command.\n",
    "```\n",
    "`(myvenv) (base) C:\\Users\\Ian Ward\\Documents>`__`python`__\n",
    "```python\n",
    "Python 3.7.1 (default, Dec 10 2018, 22:54:23) [MSC v.1915 64 bit (AMD64)] :: Anaconda, Inc. on win32\n",
    "Type \"help\", \"copyright\", \"credits\" or \"license\" for more information.\n",
    ">>> import ckanapi\n",
    ">>> ckanapi\n",
    "<module 'ckanapi' from 'C:\\\\Users\\\\Ian Ward\\\\Documents\\\\myvenv\\\\lib\\\\site-packages\\\\ckanapi\\\\__init__.py'>\n",
    ">>> import threading\n",
    ">>> threading\n",
    "<module 'threading' from 'C:\\\\Users\\\\Public\\\\Anaconda3\\\\lib\\\\threading.py'>\n",
    ">>> import numpy as np\n",
    "Traceback (most recent call last):\n",
    "  File \"<stdin>\", line 1, in <module>\n",
    "ModuleNotFoundError: No module named 'numpy'\n",
    ">>> ^Z\n",
    "```\n",
    "`(myvenv) (base) C:\\Users\\Ian Ward\\Documents>`__`deactivate`__\n",
    "\n",
    "`(base) C:\\Users\\Ian Ward\\Documents>`"
   ]
  },
  {
   "cell_type": "code",
   "execution_count": null,
   "metadata": {},
   "outputs": [],
   "source": []
  }
 ],
 "metadata": {
  "kernelspec": {
   "display_name": "Python 3",
   "language": "python",
   "name": "python3"
  },
  "language_info": {
   "codemirror_mode": {
    "name": "ipython",
    "version": 3
   },
   "file_extension": ".py",
   "mimetype": "text/x-python",
   "name": "python",
   "nbconvert_exporter": "python",
   "pygments_lexer": "ipython3",
   "version": "3.7.1"
  }
 },
 "nbformat": 4,
 "nbformat_minor": 2
}
