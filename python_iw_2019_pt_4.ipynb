{
 "cells": [
  {
   "cell_type": "markdown",
   "metadata": {},
   "source": [
    "## Decorators\n",
    "functions wrapping functions"
   ]
  },
  {
   "cell_type": "code",
   "execution_count": 47,
   "metadata": {},
   "outputs": [
    {
     "name": "stdout",
     "output_type": "stream",
     "text": [
      "w̰̙͚̻͞e̩̩̘̓̽'͖̩̜͎̆r͔̥͑̊̈e̻̋̅͌̽ ̃́́͠͞c̜̪̰͍̤ȍ̦̗͈͟m͇̤͙̑̎ȉ̪͍̬̈n̫̘̮͚̈g̬͓̩͌͋ ̤͑̇̄̊f̔́͊̾ͅó̞̼̾̓r͖̻̋͒͂ ̠̖̙̘̓Y̤͚̜̍͐Ȍ̹̘̙͋U̠̩̅̓͝\n"
     ]
    }
   ],
   "source": [
    "from random import choices\n",
    "\n",
    "COMBINING = [\n",
    "    chr(x) for x in [*range(0x300, 0x332), *range(0x339, 0x363)]\n",
    "    if x not in {0x312, 0x31a, 0x31b, 0x321, 0x322, 0x33f, 0x358, 0x361}]\n",
    "\n",
    "def zalgo(text, k=5):\n",
    "    \"return s with random combining characters interspersed\"\n",
    "    return ''.join(c + ''.join(choices(COMBINING, k=k)) for c in text)\n",
    "\n",
    "print(zalgo(\"we're coming for YOU\"))"
   ]
  },
  {
   "cell_type": "code",
   "execution_count": 48,
   "metadata": {},
   "outputs": [
    {
     "name": "stdout",
     "output_type": "stream",
     "text": [
      " 4:39PM EDT on Mar 12, 2019\n"
     ]
    }
   ],
   "source": [
    "import time\n",
    "\n",
    "def wordy_time():\n",
    "    return time.strftime('%l:%M%p %Z on %b %d, %Y')\n",
    "\n",
    "print(wordy_time())"
   ]
  },
  {
   "cell_type": "code",
   "execution_count": 49,
   "metadata": {},
   "outputs": [
    {
     "data": {
      "text/plain": [
       "' ͈͒̍̊̃4͕͍̰̮͋:̣̱̙̗̉4̘̟͇̌͠0̩̩̼͌͟Ṗ̺̅́͂M̖͇͈̹͟ ̟̹̋̃͑Ȩ̮͚͑͆D̆͆̅̔͟T̖̻̓̔͞ ̰͙͙͙͗o̗͓̓͛͗n̮͋̂͌͟ ̘̖̬̞̍M̠̬̦̮̕ā͉́͑͂ṟ͙̌̎͠ ͙̺̠̔͝1̰̈́̈́͢͞2̭̭̈́͟͝,͖͕̄̃̏ ͏͖̺̰͆2͚̏̔̋̄0̟̤̇̌̃1̗̠͂̀ͅ9̤͈̐̈͜'"
      ]
     },
     "execution_count": 49,
     "metadata": {},
     "output_type": "execute_result"
    }
   ],
   "source": [
    "zalgo(wordy_time())"
   ]
  },
  {
   "cell_type": "code",
   "execution_count": 50,
   "metadata": {},
   "outputs": [],
   "source": [
    "def spooky_time():\n",
    "    return zalgo(wordy_time())"
   ]
  },
  {
   "cell_type": "code",
   "execution_count": 51,
   "metadata": {},
   "outputs": [
    {
     "data": {
      "text/plain": [
       "' ͓͔̽͜͜4͓̃͗͠͝:̖̈̐͆͠4̖̼̓̄͜5̹̝̪͗͝P͉̋̄̋̓Ṁ̝͍͇̩ ͎̬͍̈́̈́E̬͈͌̐̕D̩̜̽̍͜Ţ̣̅̉̕ ̻̓̈́̅͜ő͓͔̾̕ṋ̼̐̓̕ ̻͒̀͆͝M̯̪͒̓͟a͔̺̤̓ͅṟ̼̏́̕ ̧̺͋̋͐1͎̔́̓̇2̘̜̐͆͒,̮̗͎̥̌ ͓͔̓͐̀2̺͙͆͞ͅ0̫̰̺̣͋1̬̏̀͗͆9̥͒̽̓͋'"
      ]
     },
     "execution_count": 51,
     "metadata": {},
     "output_type": "execute_result"
    }
   ],
   "source": [
    "def zalgify(fn):\n",
    "    def wrapper():\n",
    "        return zalgo(fn())\n",
    "    return wrapper\n",
    "\n",
    "wordy_time = zalgify(wordy_time)\n",
    "wordy_time()"
   ]
  },
  {
   "cell_type": "code",
   "execution_count": 55,
   "metadata": {},
   "outputs": [
    {
     "data": {
      "text/plain": [
       "'Ç͔̀̎͏o̺͙̬̓ͅm̱͕̊̄̕e̦̯̽̋̉ ̠̮̩̺̬i̩̤͌̉͝n͚͇̗̋̂ ̈͂͆́͞a̹͈͔͑͠ǹ̯̈́͢ͅd̺̯̐̐͟ ̮̜͛̾͞ś͍͈͖ͅt̠͖̥͆͜a̘̅̃̀͑y̩̥̫̼͋ ͓̟̇́͞ä̯̟́͗͏ ̻͎̜͙͗ẁ̜͕͔͠h̟̑̐̽̽i͏̦̹̯̫l̹̀͐͜ͅè͈̥͆͜'"
      ]
     },
     "execution_count": 55,
     "metadata": {},
     "output_type": "execute_result"
    }
   ],
   "source": [
    "@zalgify\n",
    "def greeting():\n",
    "    return \"Come in and stay a while\"\n",
    "\n",
    "greeting()"
   ]
  },
  {
   "cell_type": "code",
   "execution_count": 56,
   "metadata": {},
   "outputs": [
    {
     "data": {
      "text/plain": [
       "<function __main__.zalgify.<locals>.wrapper()>"
      ]
     },
     "execution_count": 56,
     "metadata": {},
     "output_type": "execute_result"
    }
   ],
   "source": [
    "greeting"
   ]
  },
  {
   "cell_type": "code",
   "execution_count": 65,
   "metadata": {},
   "outputs": [
    {
     "data": {
      "text/plain": [
       "'w͂̃͏̝̈́h͓̖̦̤ͅa̪̖̤̫͔t̪͈͗̍̓ ̥̱̐͒̕ä̘̼̂̈́ŗ̖̃͢͝e̊͒̄̔͞ ̨̗̯̺͟ỹ̨̥̦͊o̩̯͊̕ͅú̺͚̋͏ ͚̯̯̈̊w̭͆̾͒̐o̗̫͚̙͎r͓̣͆̅͞r̰̺̎̂͞í͍̔͛̂ë̪͉́͐̇d͍̥͙̔́ ̩̾̋͜͞a̮͉͔͛͝b̫͖̔̏͜o̞̪̥͛͌ũ̹͆̄͏t͉̞̬̓̅ ̭͌̓̊͞s̗͇̾͛̇t̨̠̣̐ͅă̱͈̘͕ć͎͂̇̽y͏͈̗́̓?̻̏̌̄̅'"
      ]
     },
     "execution_count": 65,
     "metadata": {},
     "output_type": "execute_result"
    }
   ],
   "source": [
    "from functools import wraps\n",
    "\n",
    "def zalgify(fn):\n",
    "    @wraps(fn)  # <--- copy attributes from fn\n",
    "    def wrapper(*args, **kwargs):\n",
    "        return zalgo(fn(*args, **kwargs))\n",
    "    return wrapper\n",
    "\n",
    "@zalgify\n",
    "def nothing_strange(name='sam'):\n",
    "    return f'what are you worried about {name}?'\n",
    "\n",
    "nothing_strange('stacy')"
   ]
  },
  {
   "cell_type": "code",
   "execution_count": 63,
   "metadata": {},
   "outputs": [
    {
     "data": {
      "text/plain": [
       "<function __main__.nothing_strange(name='sam')>"
      ]
     },
     "execution_count": 63,
     "metadata": {},
     "output_type": "execute_result"
    }
   ],
   "source": [
    "nothing_strange"
   ]
  },
  {
   "cell_type": "code",
   "execution_count": 66,
   "metadata": {},
   "outputs": [
    {
     "name": "stdout",
     "output_type": "stream",
     "text": [
      "Command? fetch\n",
      "fetching\n"
     ]
    }
   ],
   "source": [
    "commands = {}\n",
    "\n",
    "def command(fn):\n",
    "    \"register command function in commands dict by its name\"\n",
    "    commands[fn.__name__] = fn\n",
    "    return fn\n",
    "\n",
    "@command\n",
    "def sit():\n",
    "    print('sitting')\n",
    "\n",
    "@command\n",
    "def fetch():\n",
    "    print('fetching')\n",
    "    \n",
    "commands[input('Command? ')]()"
   ]
  },
  {
   "cell_type": "markdown",
   "metadata": {},
   "source": [
    "## Iterables, Iterators\n",
    "- Iterables can produce iterators with `iter(x)`\n",
    "- Iterators usually store a \"position\" and produce objects from a container one at a time with `next(x)`, and raise `StopIteration` when exhausted\n",
    "- Iterators are iterable (they just return themselves from `iter(x)`)"
   ]
  },
  {
   "cell_type": "code",
   "execution_count": 119,
   "metadata": {},
   "outputs": [
    {
     "data": {
      "text/plain": [
       "('s', 'u', 'p', 'e', 'r')"
      ]
     },
     "execution_count": 119,
     "metadata": {},
     "output_type": "execute_result"
    }
   ],
   "source": [
    "s = 'super'\n",
    "i1 = iter(s)\n",
    "i2 = reversed(s)\n",
    "next(i1), next(i1), next(i1), next(i1), next(i1)"
   ]
  },
  {
   "cell_type": "code",
   "execution_count": 120,
   "metadata": {},
   "outputs": [
    {
     "ename": "StopIteration",
     "evalue": "",
     "output_type": "error",
     "traceback": [
      "\u001b[0;31m---------------------------------------------------------------------------\u001b[0m",
      "\u001b[0;31mStopIteration\u001b[0m                             Traceback (most recent call last)",
      "\u001b[0;32m<ipython-input-120-cc9ef6da1ea7>\u001b[0m in \u001b[0;36m<module>\u001b[0;34m\u001b[0m\n\u001b[0;32m----> 1\u001b[0;31m \u001b[0mnext\u001b[0m\u001b[0;34m(\u001b[0m\u001b[0mi1\u001b[0m\u001b[0;34m)\u001b[0m\u001b[0;34m\u001b[0m\u001b[0;34m\u001b[0m\u001b[0m\n\u001b[0m",
      "\u001b[0;31mStopIteration\u001b[0m: "
     ]
    }
   ],
   "source": [
    "next(i1)"
   ]
  },
  {
   "cell_type": "code",
   "execution_count": 121,
   "metadata": {},
   "outputs": [
    {
     "data": {
      "text/plain": [
       "('r', 'e')"
      ]
     },
     "execution_count": 121,
     "metadata": {},
     "output_type": "execute_result"
    }
   ],
   "source": [
    "next(i2), next(i2)"
   ]
  },
  {
   "cell_type": "code",
   "execution_count": 122,
   "metadata": {},
   "outputs": [
    {
     "data": {
      "text/plain": [
       "'p-u-s'"
      ]
     },
     "execution_count": 122,
     "metadata": {},
     "output_type": "execute_result"
    }
   ],
   "source": [
    "'-'.join(i2)"
   ]
  },
  {
   "cell_type": "code",
   "execution_count": 123,
   "metadata": {},
   "outputs": [
    {
     "data": {
      "text/plain": [
       "''"
      ]
     },
     "execution_count": 123,
     "metadata": {},
     "output_type": "execute_result"
    }
   ],
   "source": [
    "'-'.join(i2)"
   ]
  },
  {
   "cell_type": "code",
   "execution_count": 124,
   "metadata": {},
   "outputs": [
    {
     "data": {
      "text/plain": [
       "<str_iterator at 0x7faceffb0630>"
      ]
     },
     "execution_count": 124,
     "metadata": {},
     "output_type": "execute_result"
    }
   ],
   "source": [
    "i1"
   ]
  },
  {
   "cell_type": "code",
   "execution_count": 125,
   "metadata": {},
   "outputs": [
    {
     "data": {
      "text/plain": [
       "<reversed at 0x7faceffb0780>"
      ]
     },
     "execution_count": 125,
     "metadata": {},
     "output_type": "execute_result"
    }
   ],
   "source": [
    "i2"
   ]
  },
  {
   "cell_type": "code",
   "execution_count": 111,
   "metadata": {},
   "outputs": [
    {
     "data": {
      "text/plain": [
       "9"
      ]
     },
     "execution_count": 111,
     "metadata": {},
     "output_type": "execute_result"
    }
   ],
   "source": [
    "numbers = [9, 18, 27]\n",
    "i3 = iter(numbers)\n",
    "next(i3)"
   ]
  },
  {
   "cell_type": "code",
   "execution_count": 112,
   "metadata": {},
   "outputs": [
    {
     "data": {
      "text/plain": [
       "[53, 42, 9, 18, 27]"
      ]
     },
     "execution_count": 112,
     "metadata": {},
     "output_type": "execute_result"
    }
   ],
   "source": [
    "numbers.insert(0, 42)\n",
    "numbers.insert(0, 53)\n",
    "numbers"
   ]
  },
  {
   "cell_type": "code",
   "execution_count": 113,
   "metadata": {},
   "outputs": [
    {
     "data": {
      "text/plain": [
       "42"
      ]
     },
     "execution_count": 113,
     "metadata": {},
     "output_type": "execute_result"
    }
   ],
   "source": [
    "next(i3)"
   ]
  },
  {
   "cell_type": "code",
   "execution_count": 114,
   "metadata": {},
   "outputs": [
    {
     "data": {
      "text/plain": [
       "9"
      ]
     },
     "execution_count": 114,
     "metadata": {},
     "output_type": "execute_result"
    }
   ],
   "source": [
    "next(i3)"
   ]
  },
  {
   "cell_type": "code",
   "execution_count": 115,
   "metadata": {},
   "outputs": [
    {
     "data": {
      "text/plain": [
       "<list_iterator at 0x7faceffa8b70>"
      ]
     },
     "execution_count": 115,
     "metadata": {},
     "output_type": "execute_result"
    }
   ],
   "source": [
    "i3"
   ]
  },
  {
   "cell_type": "markdown",
   "metadata": {},
   "source": [
    "## Generators\n",
    "- Custom iterators with function-like syntax\n",
    "- Support `next(x)` and raise `StopIteration` like other iterators\n",
    "- May support `x.send(...)` for coroutine-like behaviour"
   ]
  },
  {
   "cell_type": "code",
   "execution_count": 135,
   "metadata": {},
   "outputs": [
    {
     "data": {
      "text/plain": [
       "['alt', 'e̖̼͔̠͠r̞͗̌́̕', 'nat', 'i͚͇͛̉̃n̹̬̂̓̍g̫̑̏͟ͅ']"
      ]
     },
     "execution_count": 135,
     "metadata": {},
     "output_type": "execute_result"
    }
   ],
   "source": [
    "def odd_zalgo(str_seq):\n",
    "    \"\"\"\n",
    "    zalgify every other string from str_seq\n",
    "    \"\"\"\n",
    "    for i, s in enumerate(str_seq):\n",
    "        yield zalgo(s) if i % 2 else s\n",
    "\n",
    "list(odd_zalgo('alt er nat ing'.split()))"
   ]
  },
  {
   "cell_type": "code",
   "execution_count": 158,
   "metadata": {},
   "outputs": [
    {
     "name": "stdout",
     "output_type": "stream",
     "text": [
      "entering\n"
     ]
    },
    {
     "data": {
      "text/plain": [
       "1"
      ]
     },
     "execution_count": 158,
     "metadata": {},
     "output_type": "execute_result"
    }
   ],
   "source": [
    "def noisy():\n",
    "    print('entering')\n",
    "    try:\n",
    "        yield 1\n",
    "        print('after 1')\n",
    "        yield 2\n",
    "        print('after 2')\n",
    "        yield 3\n",
    "        print('after 3')\n",
    "    finally:\n",
    "        print('exiting')\n",
    "\n",
    "n = noisy()\n",
    "next(n)"
   ]
  },
  {
   "cell_type": "code",
   "execution_count": 159,
   "metadata": {},
   "outputs": [
    {
     "name": "stdout",
     "output_type": "stream",
     "text": [
      "after 1\n"
     ]
    },
    {
     "data": {
      "text/plain": [
       "2"
      ]
     },
     "execution_count": 159,
     "metadata": {},
     "output_type": "execute_result"
    }
   ],
   "source": [
    "next(n)"
   ]
  },
  {
   "cell_type": "code",
   "execution_count": 160,
   "metadata": {},
   "outputs": [
    {
     "name": "stdout",
     "output_type": "stream",
     "text": [
      "after 2\n"
     ]
    },
    {
     "data": {
      "text/plain": [
       "3"
      ]
     },
     "execution_count": 160,
     "metadata": {},
     "output_type": "execute_result"
    }
   ],
   "source": [
    "next(n)"
   ]
  },
  {
   "cell_type": "code",
   "execution_count": 161,
   "metadata": {},
   "outputs": [
    {
     "name": "stdout",
     "output_type": "stream",
     "text": [
      "exiting\n"
     ]
    }
   ],
   "source": [
    "del n"
   ]
  },
  {
   "cell_type": "code",
   "execution_count": 150,
   "metadata": {},
   "outputs": [
    {
     "name": "stdout",
     "output_type": "stream",
     "text": [
      "['azimuth', 'azure']\n",
      "['babble', 'baby', 'byte']\n",
      "['cab']\n"
     ]
    }
   ],
   "source": [
    "def prefix_batch(seq_seq):\n",
    "    '''\n",
    "    Group sequences with the same first element\n",
    "    '''\n",
    "    batch = []\n",
    "    for s in seq_seq:\n",
    "        if not batch or batch[0].startswith(s[0]):\n",
    "            batch.append(s)\n",
    "        else:\n",
    "            yield batch\n",
    "            batch = [s]\n",
    "    if batch:\n",
    "        yield batch\n",
    "\n",
    "for seq in prefix_batch('azimuth azure babble baby byte cab'.split()):\n",
    "    print(seq)\n",
    "    "
   ]
  },
  {
   "cell_type": "markdown",
   "metadata": {},
   "source": [
    "See also https://docs.python.org/3/library/itertools.html"
   ]
  },
  {
   "cell_type": "code",
   "execution_count": 152,
   "metadata": {},
   "outputs": [
    {
     "name": "stdout",
     "output_type": "stream",
     "text": [
      "Welcome player. Press enter to continue.\n",
      "You are in a maze of twisty passages. Exits NSEW:N\n",
      "You are in a maze of twisty passages. Exits NSEW:W\n",
      "You are in a maze of twisty passages. Exits NSEW:E\n",
      "A dragon approaches. (F)ight or (R)un:F\n",
      "You have been eaten. Goodbye.\n"
     ]
    }
   ],
   "source": [
    "def coroutine_adventure(name):\n",
    "    yield f'Welcome {name}. Press enter to continue.'\n",
    "    m = 'You are in a maze of twisty passages. Exits NSEW:'\n",
    "    while True:\n",
    "        if (yield m) == 'E':\n",
    "            break\n",
    "    m = 'A dragon approaches. (F)ight or (R)un:'\n",
    "    if (yield m) == 'R':\n",
    "        yield 'You barely escape. Goodbye.'\n",
    "        return\n",
    "    yield 'You have been eaten. Goodbye.'\n",
    "\n",
    "game = coroutine_adventure('player')\n",
    "message = next(game)\n",
    "while not message.endswith('Goodbye.'):\n",
    "    message = game.send(input(message))\n",
    "print(message)"
   ]
  },
  {
   "cell_type": "markdown",
   "metadata": {},
   "source": [
    "## Context Managers\n",
    "- packaged version of `try: … except: … finally: …`"
   ]
  },
  {
   "cell_type": "code",
   "execution_count": 163,
   "metadata": {},
   "outputs": [
    {
     "name": "stdout",
     "output_type": "stream",
     "text": [
      "we're still here\n"
     ]
    }
   ],
   "source": [
    "from contextlib import contextmanager\n",
    "\n",
    "@contextmanager\n",
    "def reckless_abandon():\n",
    "    '''\n",
    "    Context manager for actions that may fail, but I don't care.\n",
    "    '''\n",
    "    try:\n",
    "        yield\n",
    "    except Exception:\n",
    "        pass\n",
    "\n",
    "with reckless_abandon():\n",
    "    contact_flakey_service_the_other_team_built()\n",
    "\n",
    "print(\"we're still here\")"
   ]
  },
  {
   "cell_type": "code",
   "execution_count": 167,
   "metadata": {},
   "outputs": [
    {
     "name": "stdout",
     "output_type": "stream",
     "text": [
      "I took ticket 5000\n"
     ]
    },
    {
     "data": {
      "text/plain": [
       "[5000]"
      ]
     },
     "execution_count": 167,
     "metadata": {},
     "output_type": "execute_result"
    }
   ],
   "source": [
    "from itertools import count\n",
    "from contextlib import contextmanager\n",
    "\n",
    "take_a_ticket = count(5000)\n",
    "returned_tickets = []\n",
    "\n",
    "@contextmanager\n",
    "def my_ticket():\n",
    "    try:\n",
    "        ticket = next(take_a_ticket)\n",
    "        yield ticket\n",
    "    finally:\n",
    "        returned_tickets.append(ticket)\n",
    "\n",
    "with my_ticket() as t:\n",
    "    print(f'I took ticket {t}')\n",
    "    \n",
    "returned_tickets"
   ]
  },
  {
   "cell_type": "code",
   "execution_count": 168,
   "metadata": {},
   "outputs": [
    {
     "name": "stdout",
     "output_type": "stream",
     "text": [
      "I like tickets 5001 5002\n"
     ]
    },
    {
     "data": {
      "text/plain": [
       "[5000, 5002, 5001]"
      ]
     },
     "execution_count": 168,
     "metadata": {},
     "output_type": "execute_result"
    }
   ],
   "source": [
    "with my_ticket() as t1, my_ticket() as t2:\n",
    "    print(f'I like tickets {t1} {t2}')\n",
    "\n",
    "returned_tickets"
   ]
  },
  {
   "cell_type": "code",
   "execution_count": null,
   "metadata": {},
   "outputs": [],
   "source": []
  }
 ],
 "metadata": {
  "kernelspec": {
   "display_name": "Python 3",
   "language": "python",
   "name": "python3"
  },
  "language_info": {
   "codemirror_mode": {
    "name": "ipython",
    "version": 3
   },
   "file_extension": ".py",
   "mimetype": "text/x-python",
   "name": "python",
   "nbconvert_exporter": "python",
   "pygments_lexer": "ipython3",
   "version": "3.6.7"
  }
 },
 "nbformat": 4,
 "nbformat_minor": 2
}
