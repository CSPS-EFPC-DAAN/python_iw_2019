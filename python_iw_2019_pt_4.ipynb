{
 "cells": [
  {
   "cell_type": "markdown",
   "metadata": {},
   "source": [
    "## Decorators\n",
    "functions wrapping functions"
   ]
  },
  {
   "cell_type": "code",
   "execution_count": 46,
   "metadata": {},
   "outputs": [
    {
     "name": "stdout",
     "output_type": "stream",
     "text": [
      "w͎̍́̈́͟ȅ̟͕̯̄'͉̮͍͊͗ṟ̙̑̏̂ȅ̩̤̀̍ ̱̌̓̀͢c̮̟̜͊͋o͌̽̈̔̕ṁ̻̗̐͠i̺̾̇̓̅n̜͐̅͂̈g͓͓͊̕͞ ̹̘͕͂̀f̜͍͌̕̕o̓̅̆̌͟ṛ͓̭͛̃ ͍̬̍̉͞Y̘̮̝̣͊O͍̔͑̈́̌U͖͍͚͊͊\n"
     ]
    }
   ],
   "source": [
    "from random import choices\n",
    "\n",
    "COMBINING = ('̀◌́◌̂◌̃◌̄◌̅◌̆◌̇◌̈◌̉◌̊◌̋◌̌◌̍◌̎◌̏◌̐◌̑◌̓◌̔◌̕◌̖◌̗◌̘◌̙◌̜◌̝◌̞◌̟◌̠◌̣◌̤◌̥◌̦◌̧◌̨◌̩◌̪◌̫◌̬◌̭◌̮◌̯◌̰◌̱◌̹◌̺◌̻◌'\n",
    "             '̼◌̽◌̾◌̀◌́◌͂◌̓◌̈́◌ͅ◌͆◌͇◌͈◌͉◌͊◌͋◌͌◌͍◌͎◌͏◌͐◌͑◌͒◌͓◌͔◌͕◌͖◌͗◌͙◌͚◌͛◌͜◌͝◌͞◌͟◌͠◌͢◌')[::2]\n",
    "\n",
    "def zalgo(text, k=5):\n",
    "    \"return s with random combining characters interspersed\"\n",
    "    z = []\n",
    "    for c in text:\n",
    "        z.append(c + ''.join(choices(COMBINING, k=k)))\n",
    "        \n",
    "    return ''.join(z)\n",
    "\n",
    "print(zalgo(\"we're coming for YOU\"))"
   ]
  },
  {
   "cell_type": "code",
   "execution_count": 48,
   "metadata": {},
   "outputs": [
    {
     "name": "stdout",
     "output_type": "stream",
     "text": [
      " 4:39PM EDT on Mar 12, 2019\n"
     ]
    }
   ],
   "source": [
    "import time\n",
    "\n",
    "def wordy_time():\n",
    "    return time.strftime('%l:%M%p %Z on %b %d, %Y')\n",
    "\n",
    "print(wordy_time())"
   ]
  },
  {
   "cell_type": "code",
   "execution_count": 49,
   "metadata": {},
   "outputs": [
    {
     "data": {
      "text/plain": [
       "' ͈͒̍̊̃4͕͍̰̮͋:̣̱̙̗̉4̘̟͇̌͠0̩̩̼͌͟Ṗ̺̅́͂M̖͇͈̹͟ ̟̹̋̃͑Ȩ̮͚͑͆D̆͆̅̔͟T̖̻̓̔͞ ̰͙͙͙͗o̗͓̓͛͗n̮͋̂͌͟ ̘̖̬̞̍M̠̬̦̮̕ā͉́͑͂ṟ͙̌̎͠ ͙̺̠̔͝1̰̈́̈́͢͞2̭̭̈́͟͝,͖͕̄̃̏ ͏͖̺̰͆2͚̏̔̋̄0̟̤̇̌̃1̗̠͂̀ͅ9̤͈̐̈͜'"
      ]
     },
     "execution_count": 49,
     "metadata": {},
     "output_type": "execute_result"
    }
   ],
   "source": [
    "zalgo(wordy_time())"
   ]
  },
  {
   "cell_type": "code",
   "execution_count": 50,
   "metadata": {},
   "outputs": [],
   "source": [
    "def spooky_time():\n",
    "    return zalgo(wordy_time())"
   ]
  },
  {
   "cell_type": "code",
   "execution_count": 51,
   "metadata": {},
   "outputs": [
    {
     "data": {
      "text/plain": [
       "' ͓͔̽͜͜4͓̃͗͠͝:̖̈̐͆͠4̖̼̓̄͜5̹̝̪͗͝P͉̋̄̋̓Ṁ̝͍͇̩ ͎̬͍̈́̈́E̬͈͌̐̕D̩̜̽̍͜Ţ̣̅̉̕ ̻̓̈́̅͜ő͓͔̾̕ṋ̼̐̓̕ ̻͒̀͆͝M̯̪͒̓͟a͔̺̤̓ͅṟ̼̏́̕ ̧̺͋̋͐1͎̔́̓̇2̘̜̐͆͒,̮̗͎̥̌ ͓͔̓͐̀2̺͙͆͞ͅ0̫̰̺̣͋1̬̏̀͗͆9̥͒̽̓͋'"
      ]
     },
     "execution_count": 51,
     "metadata": {},
     "output_type": "execute_result"
    }
   ],
   "source": [
    "def zalgify(fn):\n",
    "    \"\"\"\n",
    "    return a function that calls fn but pass its\n",
    "    result through zalgo before returning\n",
    "    \"\"\"\n",
    "    def wrapper():\n",
    "        return zalgo(fn())\n",
    "    return wrapper\n",
    "\n",
    "wordy_time = zalgify(wordy_time)\n",
    "wordy_time()"
   ]
  },
  {
   "cell_type": "code",
   "execution_count": 55,
   "metadata": {},
   "outputs": [
    {
     "data": {
      "text/plain": [
       "'Ç͔̀̎͏o̺͙̬̓ͅm̱͕̊̄̕e̦̯̽̋̉ ̠̮̩̺̬i̩̤͌̉͝n͚͇̗̋̂ ̈͂͆́͞a̹͈͔͑͠ǹ̯̈́͢ͅd̺̯̐̐͟ ̮̜͛̾͞ś͍͈͖ͅt̠͖̥͆͜a̘̅̃̀͑y̩̥̫̼͋ ͓̟̇́͞ä̯̟́͗͏ ̻͎̜͙͗ẁ̜͕͔͠h̟̑̐̽̽i͏̦̹̯̫l̹̀͐͜ͅè͈̥͆͜'"
      ]
     },
     "execution_count": 55,
     "metadata": {},
     "output_type": "execute_result"
    }
   ],
   "source": [
    "@zalgify\n",
    "def greeting():\n",
    "    return \"Come in and stay a while\"\n",
    "\n",
    "greeting()"
   ]
  },
  {
   "cell_type": "code",
   "execution_count": 56,
   "metadata": {},
   "outputs": [
    {
     "data": {
      "text/plain": [
       "<function __main__.zalgify.<locals>.wrapper()>"
      ]
     },
     "execution_count": 56,
     "metadata": {},
     "output_type": "execute_result"
    }
   ],
   "source": [
    "greeting"
   ]
  },
  {
   "cell_type": "code",
   "execution_count": 18,
   "metadata": {},
   "outputs": [
    {
     "data": {
      "text/plain": [
       "'w̙͔̜͒͞h͏̪̙̃͒ả̜͖̠͉t̽̀͢͜͠ ̣̦̽͐̔ạ̻̯̃͢ṛ̪̅͏̨ë͔́́͗͏ ̥̫̻͋ͅỳ̜̉̍͝o̜̺̤̊̇ǘ͈̜̆͆ ̥̘͂̑͜w̰̰̍͊͌o̧̮̼͊̕r̦̅̍̈͞ŕ͙̻͚̀i̞̓̀̉ͅẻ̘͓̋͏d̹̝͆́͊ ͔̀̕͏̑a̫̽̾̏ͅb͉́͒̏͟ô̗̣̊͞ù̘̯͎̎t̺̭̫̙́ ̧̙͉͍͌s̝͇͙͢͝t̠̤̅̈̀â͉̜̹̆c͖͖̺͋̌y̬̬̍́͞?͖̣̹̜̑'"
      ]
     },
     "execution_count": 18,
     "metadata": {},
     "output_type": "execute_result"
    }
   ],
   "source": [
    "from functools import wraps\n",
    "\n",
    "def zalgify(fn):\n",
    "    \"\"\"\n",
    "    return a function that calls fn with all its\n",
    "    arguments but pass its result through zalgo\n",
    "    before returning\n",
    "    \"\"\"\n",
    "    @wraps(fn)  # <--- copy attributes from fn\n",
    "    def wrapper(*args, **kwargs):\n",
    "        return zalgo(fn(*args, **kwargs))\n",
    "    return wrapper\n",
    "\n",
    "@zalgify\n",
    "def nothing_strange(name:str='sam') -> str:\n",
    "    \"\"\"showing concern\"\"\"\n",
    "    return f'what are you worried about {name}?'\n",
    "\n",
    "nothing_strange('stacy')"
   ]
  },
  {
   "cell_type": "code",
   "execution_count": 19,
   "metadata": {},
   "outputs": [
    {
     "data": {
      "text/plain": [
       "<function __main__.nothing_strange(name:str='sam') -> str>"
      ]
     },
     "execution_count": 19,
     "metadata": {},
     "output_type": "execute_result"
    }
   ],
   "source": [
    "nothing_strange"
   ]
  },
  {
   "cell_type": "code",
   "execution_count": 20,
   "metadata": {},
   "outputs": [
    {
     "data": {
      "text/plain": [
       "'showing concern'"
      ]
     },
     "execution_count": 20,
     "metadata": {},
     "output_type": "execute_result"
    }
   ],
   "source": [
    "nothing_strange.__doc__"
   ]
  },
  {
   "cell_type": "code",
   "execution_count": 21,
   "metadata": {},
   "outputs": [
    {
     "name": "stdout",
     "output_type": "stream",
     "text": [
      "Command? fetch\n",
      "fetching\n"
     ]
    }
   ],
   "source": [
    "commands = {}\n",
    "\n",
    "def command(fn):\n",
    "    \"register command function in commands dict by its name\"\n",
    "    commands[fn.__name__] = fn\n",
    "    return fn\n",
    "\n",
    "@command\n",
    "def sit():\n",
    "    print('sitting')\n",
    "\n",
    "@command\n",
    "def fetch():\n",
    "    print('fetching')\n",
    "\n",
    "\n",
    "commands[input('Command? ')]()"
   ]
  },
  {
   "cell_type": "code",
   "execution_count": 22,
   "metadata": {},
   "outputs": [
    {
     "name": "stdout",
     "output_type": "stream",
     "text": [
      "Command? sit\n",
      "sitting\n"
     ]
    }
   ],
   "source": [
    "commands[input('Command? ')]()"
   ]
  },
  {
   "cell_type": "markdown",
   "metadata": {},
   "source": [
    "Decorators in the [functools](https://docs.python.org/3/library/functools.html) module\n",
    "- dispatch based on type of first parameter https://docs.python.org/3/library/functools.html#functools.singledispatch\n",
    "- cache recent return values https://docs.python.org/3/library/functools.html#functools.lru_cache"
   ]
  },
  {
   "cell_type": "markdown",
   "metadata": {},
   "source": [
    "## Iterables, Iterators\n",
    "- Iterables can produce iterators with `iter(x)`\n",
    "- Iterators usually store a \"position\" and produce objects from a container one at a time with `next(x)`, and raise `StopIteration` when exhausted\n",
    "- Iterators are iterable (they just return themselves from `iter(x)`)"
   ]
  },
  {
   "cell_type": "code",
   "execution_count": 119,
   "metadata": {},
   "outputs": [
    {
     "data": {
      "text/plain": [
       "('s', 'u', 'p', 'e', 'r')"
      ]
     },
     "execution_count": 119,
     "metadata": {},
     "output_type": "execute_result"
    }
   ],
   "source": [
    "s = 'super'\n",
    "i1 = iter(s)\n",
    "i2 = reversed(s)\n",
    "next(i1), next(i1), next(i1), next(i1), next(i1)"
   ]
  },
  {
   "cell_type": "code",
   "execution_count": 120,
   "metadata": {},
   "outputs": [
    {
     "ename": "StopIteration",
     "evalue": "",
     "output_type": "error",
     "traceback": [
      "\u001b[0;31m---------------------------------------------------------------------------\u001b[0m",
      "\u001b[0;31mStopIteration\u001b[0m                             Traceback (most recent call last)",
      "\u001b[0;32m<ipython-input-120-cc9ef6da1ea7>\u001b[0m in \u001b[0;36m<module>\u001b[0;34m\u001b[0m\n\u001b[0;32m----> 1\u001b[0;31m \u001b[0mnext\u001b[0m\u001b[0;34m(\u001b[0m\u001b[0mi1\u001b[0m\u001b[0;34m)\u001b[0m\u001b[0;34m\u001b[0m\u001b[0;34m\u001b[0m\u001b[0m\n\u001b[0m",
      "\u001b[0;31mStopIteration\u001b[0m: "
     ]
    }
   ],
   "source": [
    "next(i1)"
   ]
  },
  {
   "cell_type": "code",
   "execution_count": 121,
   "metadata": {},
   "outputs": [
    {
     "data": {
      "text/plain": [
       "('r', 'e')"
      ]
     },
     "execution_count": 121,
     "metadata": {},
     "output_type": "execute_result"
    }
   ],
   "source": [
    "next(i2), next(i2)"
   ]
  },
  {
   "cell_type": "code",
   "execution_count": 122,
   "metadata": {},
   "outputs": [
    {
     "data": {
      "text/plain": [
       "'p-u-s'"
      ]
     },
     "execution_count": 122,
     "metadata": {},
     "output_type": "execute_result"
    }
   ],
   "source": [
    "'-'.join(i2)"
   ]
  },
  {
   "cell_type": "code",
   "execution_count": 123,
   "metadata": {},
   "outputs": [
    {
     "data": {
      "text/plain": [
       "''"
      ]
     },
     "execution_count": 123,
     "metadata": {},
     "output_type": "execute_result"
    }
   ],
   "source": [
    "'-'.join(i2)"
   ]
  },
  {
   "cell_type": "code",
   "execution_count": 124,
   "metadata": {},
   "outputs": [
    {
     "data": {
      "text/plain": [
       "<str_iterator at 0x7faceffb0630>"
      ]
     },
     "execution_count": 124,
     "metadata": {},
     "output_type": "execute_result"
    }
   ],
   "source": [
    "i1"
   ]
  },
  {
   "cell_type": "code",
   "execution_count": 125,
   "metadata": {},
   "outputs": [
    {
     "data": {
      "text/plain": [
       "<reversed at 0x7faceffb0780>"
      ]
     },
     "execution_count": 125,
     "metadata": {},
     "output_type": "execute_result"
    }
   ],
   "source": [
    "i2"
   ]
  },
  {
   "cell_type": "code",
   "execution_count": 23,
   "metadata": {},
   "outputs": [
    {
     "data": {
      "text/plain": [
       "<list_iterator at 0x7f1fed064e48>"
      ]
     },
     "execution_count": 23,
     "metadata": {},
     "output_type": "execute_result"
    }
   ],
   "source": [
    "numbers = [9, 18, 27]\n",
    "i3 = iter(numbers)\n",
    "i3"
   ]
  },
  {
   "cell_type": "code",
   "execution_count": 24,
   "metadata": {},
   "outputs": [
    {
     "data": {
      "text/plain": [
       "9"
      ]
     },
     "execution_count": 24,
     "metadata": {},
     "output_type": "execute_result"
    }
   ],
   "source": [
    "next(i3)"
   ]
  },
  {
   "cell_type": "code",
   "execution_count": 112,
   "metadata": {},
   "outputs": [
    {
     "data": {
      "text/plain": [
       "[53, 42, 9, 18, 27]"
      ]
     },
     "execution_count": 112,
     "metadata": {},
     "output_type": "execute_result"
    }
   ],
   "source": [
    "numbers.insert(0, 42)\n",
    "numbers.insert(0, 53)\n",
    "numbers"
   ]
  },
  {
   "cell_type": "code",
   "execution_count": 113,
   "metadata": {},
   "outputs": [
    {
     "data": {
      "text/plain": [
       "42"
      ]
     },
     "execution_count": 113,
     "metadata": {},
     "output_type": "execute_result"
    }
   ],
   "source": [
    "next(i3)"
   ]
  },
  {
   "cell_type": "code",
   "execution_count": 114,
   "metadata": {},
   "outputs": [
    {
     "data": {
      "text/plain": [
       "9"
      ]
     },
     "execution_count": 114,
     "metadata": {},
     "output_type": "execute_result"
    }
   ],
   "source": [
    "next(i3)"
   ]
  },
  {
   "cell_type": "markdown",
   "metadata": {},
   "source": [
    "## Generators\n",
    "- Custom iterators with function-like syntax\n",
    "- Support `next(x)` and raise `StopIteration` like other iterators\n",
    "- May support `x.send(...)` for coroutine-like behaviour"
   ]
  },
  {
   "cell_type": "code",
   "execution_count": 135,
   "metadata": {},
   "outputs": [
    {
     "data": {
      "text/plain": [
       "['alt', 'e̖̼͔̠͠r̞͗̌́̕', 'nat', 'i͚͇͛̉̃n̹̬̂̓̍g̫̑̏͟ͅ']"
      ]
     },
     "execution_count": 135,
     "metadata": {},
     "output_type": "execute_result"
    }
   ],
   "source": [
    "def odd_zalgo(str_seq):\n",
    "    \"\"\"\n",
    "    zalgify every other string from str_seq\n",
    "    \"\"\"\n",
    "    for i, s in enumerate(str_seq):\n",
    "        yield zalgo(s) if i % 2 else s\n",
    "\n",
    "list(odd_zalgo('alt er nat ing'.split()))"
   ]
  },
  {
   "cell_type": "code",
   "execution_count": 158,
   "metadata": {},
   "outputs": [
    {
     "name": "stdout",
     "output_type": "stream",
     "text": [
      "entering\n"
     ]
    },
    {
     "data": {
      "text/plain": [
       "1"
      ]
     },
     "execution_count": 158,
     "metadata": {},
     "output_type": "execute_result"
    }
   ],
   "source": [
    "def noisy():\n",
    "    print('entering')\n",
    "    try:\n",
    "        yield 1\n",
    "        print('after 1')\n",
    "        yield 2\n",
    "        print('after 2')\n",
    "        yield 3\n",
    "        print('after 3')\n",
    "    finally:\n",
    "        print('exiting')\n",
    "\n",
    "n = noisy()\n",
    "next(n)"
   ]
  },
  {
   "cell_type": "code",
   "execution_count": 159,
   "metadata": {},
   "outputs": [
    {
     "name": "stdout",
     "output_type": "stream",
     "text": [
      "after 1\n"
     ]
    },
    {
     "data": {
      "text/plain": [
       "2"
      ]
     },
     "execution_count": 159,
     "metadata": {},
     "output_type": "execute_result"
    }
   ],
   "source": [
    "next(n)"
   ]
  },
  {
   "cell_type": "code",
   "execution_count": 160,
   "metadata": {},
   "outputs": [
    {
     "name": "stdout",
     "output_type": "stream",
     "text": [
      "after 2\n"
     ]
    },
    {
     "data": {
      "text/plain": [
       "3"
      ]
     },
     "execution_count": 160,
     "metadata": {},
     "output_type": "execute_result"
    }
   ],
   "source": [
    "next(n)"
   ]
  },
  {
   "cell_type": "code",
   "execution_count": 161,
   "metadata": {},
   "outputs": [
    {
     "name": "stdout",
     "output_type": "stream",
     "text": [
      "exiting\n"
     ]
    }
   ],
   "source": [
    "del n"
   ]
  },
  {
   "cell_type": "code",
   "execution_count": 150,
   "metadata": {},
   "outputs": [
    {
     "name": "stdout",
     "output_type": "stream",
     "text": [
      "['azimuth', 'azure']\n",
      "['babble', 'baby', 'byte']\n",
      "['cab']\n"
     ]
    }
   ],
   "source": [
    "def prefix_batch(seq_seq):\n",
    "    '''\n",
    "    Group sequences with the same first element\n",
    "    '''\n",
    "    batch = []\n",
    "    for s in seq_seq:\n",
    "        if not batch or batch[0].startswith(s[0]):\n",
    "            batch.append(s)\n",
    "        else:\n",
    "            yield batch\n",
    "            batch = [s]\n",
    "    if batch:\n",
    "        yield batch\n",
    "\n",
    "for seq in prefix_batch('azimuth azure babble baby byte cab'.split()):\n",
    "    print(seq)\n",
    "    "
   ]
  },
  {
   "cell_type": "markdown",
   "metadata": {},
   "source": [
    "See also https://docs.python.org/3/library/itertools.html"
   ]
  },
  {
   "cell_type": "code",
   "execution_count": 152,
   "metadata": {},
   "outputs": [
    {
     "name": "stdout",
     "output_type": "stream",
     "text": [
      "Welcome player. Press enter to continue.\n",
      "You are in a maze of twisty passages. Exits NSEW:N\n",
      "You are in a maze of twisty passages. Exits NSEW:W\n",
      "You are in a maze of twisty passages. Exits NSEW:E\n",
      "A dragon approaches. (F)ight or (R)un:F\n",
      "You have been eaten. Goodbye.\n"
     ]
    }
   ],
   "source": [
    "def coroutine_adventure(name):\n",
    "    yield f'Welcome {name}. Press enter to continue.'\n",
    "    m = 'You are in a maze of twisty passages. Exits NSEW:'\n",
    "    while True:\n",
    "        if (yield m) == 'E':\n",
    "            break\n",
    "    m = 'A dragon approaches. (F)ight or (R)un:'\n",
    "    if (yield m) == 'R':\n",
    "        yield 'You barely escape. Goodbye.'\n",
    "        return\n",
    "    yield 'You have been eaten. Goodbye.'\n",
    "\n",
    "game = coroutine_adventure('player')\n",
    "message = next(game)\n",
    "while not message.endswith('Goodbye.'):\n",
    "    message = game.send(input(message))\n",
    "print(message)"
   ]
  },
  {
   "cell_type": "markdown",
   "metadata": {},
   "source": [
    "## Context Managers\n",
    "- packaged version of `try: … except: … finally: …`"
   ]
  },
  {
   "cell_type": "code",
   "execution_count": 163,
   "metadata": {},
   "outputs": [
    {
     "name": "stdout",
     "output_type": "stream",
     "text": [
      "we're still here\n"
     ]
    }
   ],
   "source": [
    "from contextlib import contextmanager\n",
    "\n",
    "@contextmanager\n",
    "def reckless_abandon():\n",
    "    '''\n",
    "    Context manager for actions that may fail, but I don't care.\n",
    "    '''\n",
    "    try:\n",
    "        yield\n",
    "    except Exception:\n",
    "        pass\n",
    "\n",
    "with reckless_abandon():\n",
    "    contact_flakey_service_the_other_team_built()\n",
    "\n",
    "print(\"we're still here\")"
   ]
  },
  {
   "cell_type": "code",
   "execution_count": 167,
   "metadata": {},
   "outputs": [
    {
     "name": "stdout",
     "output_type": "stream",
     "text": [
      "I took ticket 5000\n"
     ]
    },
    {
     "data": {
      "text/plain": [
       "[5000]"
      ]
     },
     "execution_count": 167,
     "metadata": {},
     "output_type": "execute_result"
    }
   ],
   "source": [
    "from itertools import count\n",
    "from contextlib import contextmanager\n",
    "\n",
    "take_a_ticket = count(5000)\n",
    "returned_tickets = []\n",
    "\n",
    "@contextmanager\n",
    "def my_ticket():\n",
    "    try:\n",
    "        ticket = next(take_a_ticket)\n",
    "        yield ticket\n",
    "    finally:\n",
    "        returned_tickets.append(ticket)\n",
    "\n",
    "with my_ticket() as t:\n",
    "    print(f'I took ticket {t}')\n",
    "    \n",
    "returned_tickets"
   ]
  },
  {
   "cell_type": "code",
   "execution_count": 168,
   "metadata": {},
   "outputs": [
    {
     "name": "stdout",
     "output_type": "stream",
     "text": [
      "I like tickets 5001 5002\n"
     ]
    },
    {
     "data": {
      "text/plain": [
       "[5000, 5002, 5001]"
      ]
     },
     "execution_count": 168,
     "metadata": {},
     "output_type": "execute_result"
    }
   ],
   "source": [
    "with my_ticket() as t1, my_ticket() as t2:\n",
    "    print(f'I like tickets {t1} {t2}')\n",
    "\n",
    "returned_tickets"
   ]
  },
  {
   "cell_type": "markdown",
   "metadata": {},
   "source": [
    "## Classes\n",
    "- Custom types\n",
    "- Extend the language"
   ]
  },
  {
   "cell_type": "code",
   "execution_count": 208,
   "metadata": {},
   "outputs": [
    {
     "name": "stdout",
     "output_type": "stream",
     "text": [
      "global   v1:🌎 v2:🌎 v3:🌎\n",
      "function v1:🏙 v2:🏙 v3:🏙\n",
      "inner    v1:👤 v2:👤 v3:👤\n",
      "function v1:🏙 v2:👤 v3:🏙\n",
      "global   v1:🌎 v2:🌎 v3:👤\n"
     ]
    },
    {
     "ename": "AttributeError",
     "evalue": "'function' object has no attribute 'v1'",
     "output_type": "error",
     "traceback": [
      "\u001b[0;31m---------------------------------------------------------------------------\u001b[0m",
      "\u001b[0;31mAttributeError\u001b[0m                            Traceback (most recent call last)",
      "\u001b[0;32m<ipython-input-208-779d23e5f2ef>\u001b[0m in \u001b[0;36m<module>\u001b[0;34m\u001b[0m\n\u001b[1;32m     18\u001b[0m \u001b[0mprint\u001b[0m\u001b[0;34m(\u001b[0m\u001b[0;34mf'global   v1:{v1} v2:{v2} v3:{v3}'\u001b[0m\u001b[0;34m)\u001b[0m\u001b[0;34m\u001b[0m\u001b[0;34m\u001b[0m\u001b[0m\n\u001b[1;32m     19\u001b[0m \u001b[0;34m\u001b[0m\u001b[0m\n\u001b[0;32m---> 20\u001b[0;31m \u001b[0mfunction\u001b[0m\u001b[0;34m.\u001b[0m\u001b[0mv1\u001b[0m\u001b[0;34m\u001b[0m\u001b[0;34m\u001b[0m\u001b[0m\n\u001b[0m",
      "\u001b[0;31mAttributeError\u001b[0m: 'function' object has no attribute 'v1'"
     ]
    }
   ],
   "source": [
    "v1 = v2 = v3 = '🌎'\n",
    "print(f'global   v1:{v1} v2:{v2} v3:{v3}')\n",
    "\n",
    "def function():\n",
    "    v1 = v2 = v3 = '🏙'\n",
    "    print(f'function v1:{v1} v2:{v2} v3:{v3}')\n",
    "    \n",
    "    def inner():\n",
    "        nonlocal v2\n",
    "        global v3\n",
    "        v1 = v2 = v3 = '👤'     \n",
    "        print(f'inner    v1:{v1} v2:{v2} v3:{v3}')\n",
    "        \n",
    "    inner()\n",
    "    print(f'function v1:{v1} v2:{v2} v3:{v3}')\n",
    "    \n",
    "function()\n",
    "print(f'global   v1:{v1} v2:{v2} v3:{v3}')\n",
    "\n",
    "function.v1"
   ]
  },
  {
   "cell_type": "code",
   "execution_count": 209,
   "metadata": {},
   "outputs": [
    {
     "data": {
      "text/plain": [
       "12345"
      ]
     },
     "execution_count": 209,
     "metadata": {},
     "output_type": "execute_result"
    }
   ],
   "source": [
    "class MyClass:\n",
    "    \"\"\"A simple example class\"\"\"\n",
    "    i = 12345\n",
    "\n",
    "    def f(self):\n",
    "        return 'hello world'\n",
    "\n",
    "MyClass.i"
   ]
  },
  {
   "cell_type": "code",
   "execution_count": 210,
   "metadata": {},
   "outputs": [
    {
     "data": {
      "text/plain": [
       "<function __main__.MyClass.f(self)>"
      ]
     },
     "execution_count": 210,
     "metadata": {},
     "output_type": "execute_result"
    }
   ],
   "source": [
    "MyClass.f"
   ]
  },
  {
   "cell_type": "code",
   "execution_count": 211,
   "metadata": {},
   "outputs": [
    {
     "data": {
      "text/plain": [
       "12345"
      ]
     },
     "execution_count": 211,
     "metadata": {},
     "output_type": "execute_result"
    }
   ],
   "source": [
    "obj = MyClass()\n",
    "obj.i"
   ]
  },
  {
   "cell_type": "code",
   "execution_count": 212,
   "metadata": {},
   "outputs": [
    {
     "data": {
      "text/plain": [
       "<bound method MyClass.f of <__main__.MyClass object at 0x7faceff65b00>>"
      ]
     },
     "execution_count": 212,
     "metadata": {},
     "output_type": "execute_result"
    }
   ],
   "source": [
    "obj.f"
   ]
  },
  {
   "cell_type": "code",
   "execution_count": 213,
   "metadata": {},
   "outputs": [
    {
     "data": {
      "text/plain": [
       "'hello world'"
      ]
     },
     "execution_count": 213,
     "metadata": {},
     "output_type": "execute_result"
    }
   ],
   "source": [
    "obj.f()"
   ]
  },
  {
   "cell_type": "code",
   "execution_count": 214,
   "metadata": {},
   "outputs": [
    {
     "ename": "TypeError",
     "evalue": "f() missing 1 required positional argument: 'self'",
     "output_type": "error",
     "traceback": [
      "\u001b[0;31m---------------------------------------------------------------------------\u001b[0m",
      "\u001b[0;31mTypeError\u001b[0m                                 Traceback (most recent call last)",
      "\u001b[0;32m<ipython-input-214-dd9fb80f1363>\u001b[0m in \u001b[0;36m<module>\u001b[0;34m\u001b[0m\n\u001b[0;32m----> 1\u001b[0;31m \u001b[0mMyClass\u001b[0m\u001b[0;34m.\u001b[0m\u001b[0mf\u001b[0m\u001b[0;34m(\u001b[0m\u001b[0;34m)\u001b[0m\u001b[0;34m\u001b[0m\u001b[0;34m\u001b[0m\u001b[0m\n\u001b[0m",
      "\u001b[0;31mTypeError\u001b[0m: f() missing 1 required positional argument: 'self'"
     ]
    }
   ],
   "source": [
    "MyClass.f()"
   ]
  },
  {
   "cell_type": "code",
   "execution_count": 294,
   "metadata": {},
   "outputs": [
    {
     "data": {
      "text/plain": [
       "'canine'"
      ]
     },
     "execution_count": 294,
     "metadata": {},
     "output_type": "execute_result"
    }
   ],
   "source": [
    "class Dog:\n",
    "    \"Who's a good boy?  You're a good boy!\"\n",
    "    \n",
    "    kind = 'canine'\n",
    "    \n",
    "    def __init__(self, name):\n",
    "        self.name = name\n",
    "        self.tricks = []\n",
    "\n",
    "    def add_trick(self, trick):\n",
    "        self.tricks.append(trick)\n",
    "        \n",
    "d = Dog('Fido')\n",
    "d.add_trick('roll over')\n",
    "d.kind"
   ]
  },
  {
   "cell_type": "code",
   "execution_count": 270,
   "metadata": {},
   "outputs": [
    {
     "data": {
      "text/plain": [
       "'Fido'"
      ]
     },
     "execution_count": 270,
     "metadata": {},
     "output_type": "execute_result"
    }
   ],
   "source": [
    "d.name"
   ]
  },
  {
   "cell_type": "code",
   "execution_count": 271,
   "metadata": {},
   "outputs": [
    {
     "data": {
      "text/plain": [
       "['roll over']"
      ]
     },
     "execution_count": 271,
     "metadata": {},
     "output_type": "execute_result"
    }
   ],
   "source": [
    "d.tricks"
   ]
  },
  {
   "cell_type": "code",
   "execution_count": 272,
   "metadata": {},
   "outputs": [
    {
     "data": {
      "text/plain": [
       "'Buddy'"
      ]
     },
     "execution_count": 272,
     "metadata": {},
     "output_type": "execute_result"
    }
   ],
   "source": [
    "e = Dog('Buddy')\n",
    "e.add_trick('play dead')\n",
    "e.name"
   ]
  },
  {
   "cell_type": "code",
   "execution_count": 273,
   "metadata": {},
   "outputs": [
    {
     "data": {
      "text/plain": [
       "['play dead']"
      ]
     },
     "execution_count": 273,
     "metadata": {},
     "output_type": "execute_result"
    }
   ],
   "source": [
    "e.tricks"
   ]
  },
  {
   "cell_type": "code",
   "execution_count": 274,
   "metadata": {},
   "outputs": [
    {
     "ename": "AttributeError",
     "evalue": "type object 'Dog' has no attribute 'name'",
     "output_type": "error",
     "traceback": [
      "\u001b[0;31m---------------------------------------------------------------------------\u001b[0m",
      "\u001b[0;31mAttributeError\u001b[0m                            Traceback (most recent call last)",
      "\u001b[0;32m<ipython-input-274-629675d46941>\u001b[0m in \u001b[0;36m<module>\u001b[0;34m\u001b[0m\n\u001b[0;32m----> 1\u001b[0;31m \u001b[0mDog\u001b[0m\u001b[0;34m.\u001b[0m\u001b[0mname\u001b[0m\u001b[0;34m\u001b[0m\u001b[0;34m\u001b[0m\u001b[0m\n\u001b[0m",
      "\u001b[0;31mAttributeError\u001b[0m: type object 'Dog' has no attribute 'name'"
     ]
    }
   ],
   "source": [
    "Dog.name"
   ]
  },
  {
   "cell_type": "code",
   "execution_count": 277,
   "metadata": {},
   "outputs": [
    {
     "ename": "NameError",
     "evalue": "name 'target' is not defined",
     "output_type": "error",
     "traceback": [
      "\u001b[0;31m---------------------------------------------------------------------------\u001b[0m",
      "\u001b[0;31mNameError\u001b[0m                                 Traceback (most recent call last)",
      "\u001b[0;32m<ipython-input-277-ee526d733425>\u001b[0m in \u001b[0;36m<module>\u001b[0;34m\u001b[0m\n\u001b[1;32m      5\u001b[0m         \u001b[0;32mreturn\u001b[0m \u001b[0mtarget\u001b[0m  \u001b[0;31m# not in scope\u001b[0m\u001b[0;34m\u001b[0m\u001b[0;34m\u001b[0m\u001b[0m\n\u001b[1;32m      6\u001b[0m \u001b[0;34m\u001b[0m\u001b[0m\n\u001b[0;32m----> 7\u001b[0;31m \u001b[0mNoScope360\u001b[0m\u001b[0;34m(\u001b[0m\u001b[0;34m)\u001b[0m\u001b[0;34m.\u001b[0m\u001b[0maim\u001b[0m\u001b[0;34m(\u001b[0m\u001b[0;34m)\u001b[0m\u001b[0;34m\u001b[0m\u001b[0;34m\u001b[0m\u001b[0m\n\u001b[0m",
      "\u001b[0;32m<ipython-input-277-ee526d733425>\u001b[0m in \u001b[0;36maim\u001b[0;34m(self)\u001b[0m\n\u001b[1;32m      3\u001b[0m \u001b[0;34m\u001b[0m\u001b[0m\n\u001b[1;32m      4\u001b[0m     \u001b[0;32mdef\u001b[0m \u001b[0maim\u001b[0m\u001b[0;34m(\u001b[0m\u001b[0mself\u001b[0m\u001b[0;34m)\u001b[0m\u001b[0;34m:\u001b[0m\u001b[0;34m\u001b[0m\u001b[0;34m\u001b[0m\u001b[0m\n\u001b[0;32m----> 5\u001b[0;31m         \u001b[0;32mreturn\u001b[0m \u001b[0mtarget\u001b[0m  \u001b[0;31m# not in scope\u001b[0m\u001b[0;34m\u001b[0m\u001b[0;34m\u001b[0m\u001b[0m\n\u001b[0m\u001b[1;32m      6\u001b[0m \u001b[0;34m\u001b[0m\u001b[0m\n\u001b[1;32m      7\u001b[0m \u001b[0mNoScope360\u001b[0m\u001b[0;34m(\u001b[0m\u001b[0;34m)\u001b[0m\u001b[0;34m.\u001b[0m\u001b[0maim\u001b[0m\u001b[0;34m(\u001b[0m\u001b[0;34m)\u001b[0m\u001b[0;34m\u001b[0m\u001b[0;34m\u001b[0m\u001b[0m\n",
      "\u001b[0;31mNameError\u001b[0m: name 'target' is not defined"
     ]
    }
   ],
   "source": [
    "class NoScope360:\n",
    "    target = 'playername'\n",
    "\n",
    "    def aim(self):\n",
    "        return target  # not in scope\n",
    "\n",
    "NoScope360().aim()"
   ]
  },
  {
   "cell_type": "code",
   "execution_count": 278,
   "metadata": {},
   "outputs": [
    {
     "data": {
      "text/plain": [
       "True"
      ]
     },
     "execution_count": 278,
     "metadata": {},
     "output_type": "execute_result"
    }
   ],
   "source": [
    "isinstance(d, Dog)"
   ]
  },
  {
   "cell_type": "code",
   "execution_count": 279,
   "metadata": {},
   "outputs": [
    {
     "data": {
      "text/plain": [
       "True"
      ]
     },
     "execution_count": 279,
     "metadata": {},
     "output_type": "execute_result"
    }
   ],
   "source": [
    "isinstance(1.0, float)"
   ]
  },
  {
   "cell_type": "code",
   "execution_count": 280,
   "metadata": {},
   "outputs": [
    {
     "data": {
      "text/plain": [
       "False"
      ]
     },
     "execution_count": 280,
     "metadata": {},
     "output_type": "execute_result"
    }
   ],
   "source": [
    "isinstance(1, float)"
   ]
  },
  {
   "cell_type": "markdown",
   "metadata": {},
   "source": [
    "## Special Methods and Attributes"
   ]
  },
  {
   "cell_type": "code",
   "execution_count": 328,
   "metadata": {},
   "outputs": [
    {
     "data": {
      "text/plain": [
       "['__class__',\n",
       " '__delattr__',\n",
       " '__dict__',\n",
       " '__dir__',\n",
       " '__doc__',\n",
       " '__eq__',\n",
       " '__format__',\n",
       " '__ge__',\n",
       " '__getattribute__',\n",
       " '__gt__',\n",
       " '__hash__',\n",
       " '__init__',\n",
       " '__init_subclass__',\n",
       " '__le__',\n",
       " '__lt__',\n",
       " '__module__',\n",
       " '__ne__',\n",
       " '__new__',\n",
       " '__reduce__',\n",
       " '__reduce_ex__',\n",
       " '__repr__',\n",
       " '__setattr__',\n",
       " '__sizeof__',\n",
       " '__str__',\n",
       " '__subclasshook__',\n",
       " '__weakref__',\n",
       " 'add_trick',\n",
       " 'kind',\n",
       " 'name',\n",
       " 'tricks']"
      ]
     },
     "execution_count": 328,
     "metadata": {},
     "output_type": "execute_result"
    }
   ],
   "source": [
    "dir(d)"
   ]
  },
  {
   "cell_type": "code",
   "execution_count": 327,
   "metadata": {},
   "outputs": [
    {
     "data": {
      "text/plain": [
       "{'name', 'tricks'}"
      ]
     },
     "execution_count": 327,
     "metadata": {},
     "output_type": "execute_result"
    }
   ],
   "source": [
    "set(dir(d)) - set(dir(Dog))"
   ]
  },
  {
   "cell_type": "code",
   "execution_count": 329,
   "metadata": {},
   "outputs": [
    {
     "data": {
      "text/plain": [
       "{'__dict__', '__module__', '__weakref__', 'add_trick', 'kind'}"
      ]
     },
     "execution_count": 329,
     "metadata": {},
     "output_type": "execute_result"
    }
   ],
   "source": [
    "set(dir(Dog)) - set(dir(object))"
   ]
  },
  {
   "cell_type": "code",
   "execution_count": 282,
   "metadata": {},
   "outputs": [
    {
     "data": {
      "text/plain": [
       "__main__.Dog"
      ]
     },
     "execution_count": 282,
     "metadata": {},
     "output_type": "execute_result"
    }
   ],
   "source": [
    "d.__class__"
   ]
  },
  {
   "cell_type": "code",
   "execution_count": 283,
   "metadata": {},
   "outputs": [
    {
     "data": {
      "text/plain": [
       "\"Who's a good boy?  You're a good boy!\""
      ]
     },
     "execution_count": 283,
     "metadata": {},
     "output_type": "execute_result"
    }
   ],
   "source": [
    "d.__doc__"
   ]
  },
  {
   "cell_type": "code",
   "execution_count": 284,
   "metadata": {},
   "outputs": [
    {
     "data": {
      "text/plain": [
       "{'name': 'Fido', 'tricks': ['roll over']}"
      ]
     },
     "execution_count": 284,
     "metadata": {},
     "output_type": "execute_result"
    }
   ],
   "source": [
    "d.__dict__"
   ]
  },
  {
   "cell_type": "code",
   "execution_count": 285,
   "metadata": {},
   "outputs": [
    {
     "ename": "TypeError",
     "evalue": "'>=' not supported between instances of 'Dog' and 'Dog'",
     "output_type": "error",
     "traceback": [
      "\u001b[0;31m---------------------------------------------------------------------------\u001b[0m",
      "\u001b[0;31mTypeError\u001b[0m                                 Traceback (most recent call last)",
      "\u001b[0;32m<ipython-input-285-1fa99a70c1d9>\u001b[0m in \u001b[0;36m<module>\u001b[0;34m\u001b[0m\n\u001b[0;32m----> 1\u001b[0;31m \u001b[0md\u001b[0m \u001b[0;34m>=\u001b[0m \u001b[0me\u001b[0m\u001b[0;34m\u001b[0m\u001b[0;34m\u001b[0m\u001b[0m\n\u001b[0m",
      "\u001b[0;31mTypeError\u001b[0m: '>=' not supported between instances of 'Dog' and 'Dog'"
     ]
    }
   ],
   "source": [
    "d >= e"
   ]
  },
  {
   "cell_type": "code",
   "execution_count": 286,
   "metadata": {},
   "outputs": [],
   "source": [
    "def dogge(self, other):\n",
    "    if isinstance(other, Dog):\n",
    "        return len(self.tricks) >= len(other.tricks)\n",
    "    return super().__ge__(other)\n",
    "\n",
    "Dog.__ge__ = dogge"
   ]
  },
  {
   "cell_type": "code",
   "execution_count": 287,
   "metadata": {},
   "outputs": [
    {
     "data": {
      "text/plain": [
       "True"
      ]
     },
     "execution_count": 287,
     "metadata": {},
     "output_type": "execute_result"
    }
   ],
   "source": [
    "d >= e"
   ]
  },
  {
   "cell_type": "code",
   "execution_count": 288,
   "metadata": {},
   "outputs": [
    {
     "data": {
      "text/plain": [
       "True"
      ]
     },
     "execution_count": 288,
     "metadata": {},
     "output_type": "execute_result"
    }
   ],
   "source": [
    "d <= e"
   ]
  },
  {
   "cell_type": "code",
   "execution_count": 295,
   "metadata": {},
   "outputs": [
    {
     "data": {
      "text/plain": [
       "<__main__.Dog at 0x7faceff0eb70>"
      ]
     },
     "execution_count": 295,
     "metadata": {},
     "output_type": "execute_result"
    }
   ],
   "source": [
    "d"
   ]
  },
  {
   "cell_type": "code",
   "execution_count": 302,
   "metadata": {},
   "outputs": [],
   "source": [
    "def dogrepr(self):\n",
    "    return '<' + self.name + '>'\n",
    "\n",
    "Dog.__repr__ = dogrepr"
   ]
  },
  {
   "cell_type": "code",
   "execution_count": 303,
   "metadata": {},
   "outputs": [
    {
     "data": {
      "text/plain": [
       "<Fido>"
      ]
     },
     "execution_count": 303,
     "metadata": {},
     "output_type": "execute_result"
    }
   ],
   "source": [
    "d"
   ]
  },
  {
   "cell_type": "code",
   "execution_count": 304,
   "metadata": {},
   "outputs": [
    {
     "data": {
      "text/plain": [
       "'my dog <Fido>'"
      ]
     },
     "execution_count": 304,
     "metadata": {},
     "output_type": "execute_result"
    }
   ],
   "source": [
    "f'my dog {d}'"
   ]
  },
  {
   "cell_type": "code",
   "execution_count": 314,
   "metadata": {},
   "outputs": [],
   "source": [
    "def dogformat(self, fmt):\n",
    "    if fmt == 'cute':\n",
    "        return '(´ᴥ`)' + self.name + '(´ᴥ`)'\n",
    "    return super().__format__(fmt)\n",
    "\n",
    "Dog.__format__ = dogformat"
   ]
  },
  {
   "cell_type": "code",
   "execution_count": 315,
   "metadata": {},
   "outputs": [
    {
     "data": {
      "text/plain": [
       "'my dog (´ᴥ`)Fido(´ᴥ`)'"
      ]
     },
     "execution_count": 315,
     "metadata": {},
     "output_type": "execute_result"
    }
   ],
   "source": [
    "f'my dog {d:cute}'"
   ]
  },
  {
   "cell_type": "markdown",
   "metadata": {},
   "source": [
    "### ⏱⏱⏱ Performance matters: Classes\n",
    "\n",
    "- class instances take more memory than dicts by default but you can\n",
    "  use `__slots__` to define all object attributes to have size and\n",
    "  performance like `namedtuple`. See https://docs.python.org/3/reference/datamodel.html#slots"
   ]
  },
  {
   "cell_type": "code",
   "execution_count": 319,
   "metadata": {},
   "outputs": [
    {
     "data": {
      "text/plain": [
       "7"
      ]
     },
     "execution_count": 319,
     "metadata": {},
     "output_type": "execute_result"
    }
   ],
   "source": [
    "class Calculator:\n",
    "    def __init__(self, a, b):\n",
    "        self.a = a\n",
    "        self.b = b\n",
    "    \n",
    "    def __getattr__(self, attr):\n",
    "        \"Fall-back for all attributes not defined\"\n",
    "        if attr == 'total':\n",
    "            return self.a + self.b\n",
    "        if attr == 'exp':\n",
    "            return self.a ** self.b\n",
    "        if attr == 'sub':\n",
    "            return self.a - self.b\n",
    "        raise AttributeError\n",
    "\n",
    "c = Calculator(5, 2)\n",
    "c.total"
   ]
  },
  {
   "cell_type": "code",
   "execution_count": 322,
   "metadata": {},
   "outputs": [
    {
     "data": {
      "text/plain": [
       "25"
      ]
     },
     "execution_count": 322,
     "metadata": {},
     "output_type": "execute_result"
    }
   ],
   "source": [
    "c.exp"
   ]
  },
  {
   "cell_type": "code",
   "execution_count": 323,
   "metadata": {},
   "outputs": [
    {
     "data": {
      "text/plain": [
       "(5, 2)"
      ]
     },
     "execution_count": 323,
     "metadata": {},
     "output_type": "execute_result"
    }
   ],
   "source": [
    "c.a, c.b"
   ]
  },
  {
   "cell_type": "code",
   "execution_count": 333,
   "metadata": {},
   "outputs": [
    {
     "data": {
      "text/plain": [
       "-1"
      ]
     },
     "execution_count": 333,
     "metadata": {},
     "output_type": "execute_result"
    }
   ],
   "source": [
    "c.exp = -1\n",
    "c.exp"
   ]
  },
  {
   "cell_type": "markdown",
   "metadata": {},
   "source": [
    "See also https://docs.python.org/3/reference/datamodel.html#customizing-attribute-access\n",
    "for information on `__setattr__`, `__delattr__`, `__dir__`, `__getattribute__`."
   ]
  },
  {
   "cell_type": "code",
   "execution_count": 330,
   "metadata": {},
   "outputs": [
    {
     "data": {
      "text/plain": [
       "8000"
      ]
     },
     "execution_count": 330,
     "metadata": {},
     "output_type": "execute_result"
    }
   ],
   "source": [
    "class Calculator2:\n",
    "    def __init__(self, a, b):\n",
    "        self.a = a\n",
    "        self.b = b\n",
    "    \n",
    "    @property\n",
    "    def total(self):\n",
    "        return self.a + self.b\n",
    "    \n",
    "    @property\n",
    "    def exp(self):\n",
    "        return self.a ** self.b\n",
    "    \n",
    "    @property\n",
    "    def sub(self):\n",
    "        return self.a - self.b\n",
    "\n",
    "c2 = Calculator2(20, 3)\n",
    "c2.exp\n",
    "    "
   ]
  },
  {
   "cell_type": "markdown",
   "metadata": {},
   "source": [
    "### 🏠🏠🏠 Idiomatic Python: Properties\n",
    "\n",
    "- should execute as quickly and have no side effects because\n",
    "  to the user they look like simple attribute accesses\n",
    "- often used to provide backwards compatibility when a class\n",
    "  interface changes"
   ]
  },
  {
   "cell_type": "code",
   "execution_count": 332,
   "metadata": {},
   "outputs": [
    {
     "ename": "AttributeError",
     "evalue": "can't set attribute",
     "output_type": "error",
     "traceback": [
      "\u001b[0;31m---------------------------------------------------------------------------\u001b[0m",
      "\u001b[0;31mAttributeError\u001b[0m                            Traceback (most recent call last)",
      "\u001b[0;32m<ipython-input-332-337e1a20d13f>\u001b[0m in \u001b[0;36m<module>\u001b[0;34m\u001b[0m\n\u001b[0;32m----> 1\u001b[0;31m \u001b[0mc2\u001b[0m\u001b[0;34m.\u001b[0m\u001b[0mexp\u001b[0m \u001b[0;34m=\u001b[0m \u001b[0;36m500\u001b[0m\u001b[0;34m\u001b[0m\u001b[0;34m\u001b[0m\u001b[0m\n\u001b[0m",
      "\u001b[0;31mAttributeError\u001b[0m: can't set attribute"
     ]
    }
   ],
   "source": [
    "c2.exp = 500"
   ]
  },
  {
   "cell_type": "code",
   "execution_count": 336,
   "metadata": {},
   "outputs": [
    {
     "data": {
      "text/plain": [
       "'tails'"
      ]
     },
     "execution_count": 336,
     "metadata": {},
     "output_type": "execute_result"
    }
   ],
   "source": [
    "class Coin:\n",
    "    \"\"\"\n",
    "    A coin with top and bottom attributes. When coin is in the\n",
    "    air coin.top and coin.bottom will raise AttributeError\n",
    "    \"\"\"\n",
    "    @property\n",
    "    def bottom(self):\n",
    "        return 'tails' if self.top == 'heads' else 'heads'\n",
    "    \n",
    "    @bottom.setter\n",
    "    def bottom(self, side):\n",
    "        self.top = 'tails' if side == 'heads' else 'heads'\n",
    "    \n",
    "    @bottom.deleter\n",
    "    def bottom(self):\n",
    "        del self.top\n",
    "\n",
    "c = Coin()\n",
    "c.top = 'heads'\n",
    "c.bottom"
   ]
  },
  {
   "cell_type": "code",
   "execution_count": 337,
   "metadata": {},
   "outputs": [
    {
     "ename": "AttributeError",
     "evalue": "'Coin' object has no attribute 'top'",
     "output_type": "error",
     "traceback": [
      "\u001b[0;31m---------------------------------------------------------------------------\u001b[0m",
      "\u001b[0;31mAttributeError\u001b[0m                            Traceback (most recent call last)",
      "\u001b[0;32m<ipython-input-337-4323ee030167>\u001b[0m in \u001b[0;36m<module>\u001b[0;34m\u001b[0m\n\u001b[1;32m      1\u001b[0m \u001b[0;32mdel\u001b[0m \u001b[0mc\u001b[0m\u001b[0;34m.\u001b[0m\u001b[0mbottom\u001b[0m\u001b[0;34m\u001b[0m\u001b[0;34m\u001b[0m\u001b[0m\n\u001b[0;32m----> 2\u001b[0;31m \u001b[0mc\u001b[0m\u001b[0;34m.\u001b[0m\u001b[0mtop\u001b[0m\u001b[0;34m\u001b[0m\u001b[0;34m\u001b[0m\u001b[0m\n\u001b[0m",
      "\u001b[0;31mAttributeError\u001b[0m: 'Coin' object has no attribute 'top'"
     ]
    }
   ],
   "source": [
    "del c.bottom\n",
    "c.top"
   ]
  },
  {
   "cell_type": "code",
   "execution_count": 340,
   "metadata": {},
   "outputs": [
    {
     "data": {
      "text/plain": [
       "'tails'"
      ]
     },
     "execution_count": 340,
     "metadata": {},
     "output_type": "execute_result"
    }
   ],
   "source": [
    "c.bottom = 'heads'\n",
    "c.top"
   ]
  },
  {
   "cell_type": "code",
   "execution_count": null,
   "metadata": {},
   "outputs": [],
   "source": []
  }
 ],
 "metadata": {
  "kernelspec": {
   "display_name": "Python 3",
   "language": "python",
   "name": "python3"
  },
  "language_info": {
   "codemirror_mode": {
    "name": "ipython",
    "version": 3
   },
   "file_extension": ".py",
   "mimetype": "text/x-python",
   "name": "python",
   "nbconvert_exporter": "python",
   "pygments_lexer": "ipython3",
   "version": "3.6.7"
  }
 },
 "nbformat": 4,
 "nbformat_minor": 2
}
