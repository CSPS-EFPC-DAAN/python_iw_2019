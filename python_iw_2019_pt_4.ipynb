{
 "cells": [
  {
   "cell_type": "markdown",
   "metadata": {},
   "source": [
    "## Decorators\n",
    "functions wrapping functions"
   ]
  },
  {
   "cell_type": "code",
   "execution_count": 47,
   "metadata": {},
   "outputs": [
    {
     "name": "stdout",
     "output_type": "stream",
     "text": [
      "w̰̙͚̻͞e̩̩̘̓̽'͖̩̜͎̆r͔̥͑̊̈e̻̋̅͌̽ ̃́́͠͞c̜̪̰͍̤ȍ̦̗͈͟m͇̤͙̑̎ȉ̪͍̬̈n̫̘̮͚̈g̬͓̩͌͋ ̤͑̇̄̊f̔́͊̾ͅó̞̼̾̓r͖̻̋͒͂ ̠̖̙̘̓Y̤͚̜̍͐Ȍ̹̘̙͋U̠̩̅̓͝\n"
     ]
    }
   ],
   "source": [
    "from random import choices\n",
    "\n",
    "COMBINING = [\n",
    "    chr(x) for x in [*range(0x300, 0x332), *range(0x339, 0x363)]\n",
    "    if x not in {0x312, 0x31a, 0x31b, 0x321, 0x322, 0x33f, 0x358, 0x361}]\n",
    "\n",
    "def zalgo(text, k=5):\n",
    "    \"return s with random combining characters interspersed\"\n",
    "    return ''.join(c + ''.join(choices(COMBINING, k=k)) for c in text)\n",
    "\n",
    "print(zalgo(\"we're coming for YOU\"))"
   ]
  },
  {
   "cell_type": "code",
   "execution_count": 48,
   "metadata": {},
   "outputs": [
    {
     "name": "stdout",
     "output_type": "stream",
     "text": [
      " 4:39PM EDT on Mar 12, 2019\n"
     ]
    }
   ],
   "source": [
    "import time\n",
    "\n",
    "def wordy_time():\n",
    "    return time.strftime('%l:%M%p %Z on %b %d, %Y')\n",
    "\n",
    "print(wordy_time())"
   ]
  },
  {
   "cell_type": "code",
   "execution_count": 49,
   "metadata": {},
   "outputs": [
    {
     "data": {
      "text/plain": [
       "' ͈͒̍̊̃4͕͍̰̮͋:̣̱̙̗̉4̘̟͇̌͠0̩̩̼͌͟Ṗ̺̅́͂M̖͇͈̹͟ ̟̹̋̃͑Ȩ̮͚͑͆D̆͆̅̔͟T̖̻̓̔͞ ̰͙͙͙͗o̗͓̓͛͗n̮͋̂͌͟ ̘̖̬̞̍M̠̬̦̮̕ā͉́͑͂ṟ͙̌̎͠ ͙̺̠̔͝1̰̈́̈́͢͞2̭̭̈́͟͝,͖͕̄̃̏ ͏͖̺̰͆2͚̏̔̋̄0̟̤̇̌̃1̗̠͂̀ͅ9̤͈̐̈͜'"
      ]
     },
     "execution_count": 49,
     "metadata": {},
     "output_type": "execute_result"
    }
   ],
   "source": [
    "zalgo(wordy_time())"
   ]
  },
  {
   "cell_type": "code",
   "execution_count": 50,
   "metadata": {},
   "outputs": [],
   "source": [
    "def spooky_time():\n",
    "    return zalgo(wordy_time())"
   ]
  },
  {
   "cell_type": "code",
   "execution_count": 51,
   "metadata": {},
   "outputs": [
    {
     "data": {
      "text/plain": [
       "' ͓͔̽͜͜4͓̃͗͠͝:̖̈̐͆͠4̖̼̓̄͜5̹̝̪͗͝P͉̋̄̋̓Ṁ̝͍͇̩ ͎̬͍̈́̈́E̬͈͌̐̕D̩̜̽̍͜Ţ̣̅̉̕ ̻̓̈́̅͜ő͓͔̾̕ṋ̼̐̓̕ ̻͒̀͆͝M̯̪͒̓͟a͔̺̤̓ͅṟ̼̏́̕ ̧̺͋̋͐1͎̔́̓̇2̘̜̐͆͒,̮̗͎̥̌ ͓͔̓͐̀2̺͙͆͞ͅ0̫̰̺̣͋1̬̏̀͗͆9̥͒̽̓͋'"
      ]
     },
     "execution_count": 51,
     "metadata": {},
     "output_type": "execute_result"
    }
   ],
   "source": [
    "def zalgify(fn):\n",
    "    def wrapper():\n",
    "        return zalgo(fn())\n",
    "    return wrapper\n",
    "\n",
    "wordy_time = zalgify(wordy_time)\n",
    "wordy_time()"
   ]
  },
  {
   "cell_type": "code",
   "execution_count": 55,
   "metadata": {},
   "outputs": [
    {
     "data": {
      "text/plain": [
       "'Ç͔̀̎͏o̺͙̬̓ͅm̱͕̊̄̕e̦̯̽̋̉ ̠̮̩̺̬i̩̤͌̉͝n͚͇̗̋̂ ̈͂͆́͞a̹͈͔͑͠ǹ̯̈́͢ͅd̺̯̐̐͟ ̮̜͛̾͞ś͍͈͖ͅt̠͖̥͆͜a̘̅̃̀͑y̩̥̫̼͋ ͓̟̇́͞ä̯̟́͗͏ ̻͎̜͙͗ẁ̜͕͔͠h̟̑̐̽̽i͏̦̹̯̫l̹̀͐͜ͅè͈̥͆͜'"
      ]
     },
     "execution_count": 55,
     "metadata": {},
     "output_type": "execute_result"
    }
   ],
   "source": [
    "@zalgify\n",
    "def greeting():\n",
    "    return \"Come in and stay a while\"\n",
    "\n",
    "greeting()"
   ]
  },
  {
   "cell_type": "code",
   "execution_count": 56,
   "metadata": {},
   "outputs": [
    {
     "data": {
      "text/plain": [
       "<function __main__.zalgify.<locals>.wrapper()>"
      ]
     },
     "execution_count": 56,
     "metadata": {},
     "output_type": "execute_result"
    }
   ],
   "source": [
    "greeting"
   ]
  },
  {
   "cell_type": "code",
   "execution_count": 65,
   "metadata": {},
   "outputs": [
    {
     "data": {
      "text/plain": [
       "'w͂̃͏̝̈́h͓̖̦̤ͅa̪̖̤̫͔t̪͈͗̍̓ ̥̱̐͒̕ä̘̼̂̈́ŗ̖̃͢͝e̊͒̄̔͞ ̨̗̯̺͟ỹ̨̥̦͊o̩̯͊̕ͅú̺͚̋͏ ͚̯̯̈̊w̭͆̾͒̐o̗̫͚̙͎r͓̣͆̅͞r̰̺̎̂͞í͍̔͛̂ë̪͉́͐̇d͍̥͙̔́ ̩̾̋͜͞a̮͉͔͛͝b̫͖̔̏͜o̞̪̥͛͌ũ̹͆̄͏t͉̞̬̓̅ ̭͌̓̊͞s̗͇̾͛̇t̨̠̣̐ͅă̱͈̘͕ć͎͂̇̽y͏͈̗́̓?̻̏̌̄̅'"
      ]
     },
     "execution_count": 65,
     "metadata": {},
     "output_type": "execute_result"
    }
   ],
   "source": [
    "from functools import wraps\n",
    "\n",
    "def zalgify(fn):\n",
    "    @wraps(fn)  # <--- copy attributes from fn\n",
    "    def wrapper(*args, **kwargs):\n",
    "        return zalgo(fn(*args, **kwargs))\n",
    "    return wrapper\n",
    "\n",
    "@zalgify\n",
    "def nothing_strange(name='sam'):\n",
    "    return f'what are you worried about {name}?'\n",
    "\n",
    "nothing_strange('stacy')"
   ]
  },
  {
   "cell_type": "code",
   "execution_count": 63,
   "metadata": {},
   "outputs": [
    {
     "data": {
      "text/plain": [
       "<function __main__.nothing_strange(name='sam')>"
      ]
     },
     "execution_count": 63,
     "metadata": {},
     "output_type": "execute_result"
    }
   ],
   "source": [
    "nothing_strange"
   ]
  },
  {
   "cell_type": "code",
   "execution_count": 66,
   "metadata": {},
   "outputs": [
    {
     "name": "stdout",
     "output_type": "stream",
     "text": [
      "Command? fetch\n",
      "fetching\n"
     ]
    }
   ],
   "source": [
    "commands = {}\n",
    "\n",
    "def command(fn):\n",
    "    \"register command function in commands dict by its name\"\n",
    "    commands[fn.__name__] = fn\n",
    "    return fn\n",
    "\n",
    "@command\n",
    "def sit():\n",
    "    print('sitting')\n",
    "\n",
    "@command\n",
    "def fetch():\n",
    "    print('fetching')\n",
    "    \n",
    "commands[input('Command? ')]()"
   ]
  },
  {
   "cell_type": "markdown",
   "metadata": {},
   "source": [
    "## Iteration"
   ]
  },
  {
   "cell_type": "code",
   "execution_count": 94,
   "metadata": {},
   "outputs": [
    {
     "data": {
      "text/plain": [
       "('s', 'u', 'p', 'e', 'r')"
      ]
     },
     "execution_count": 94,
     "metadata": {},
     "output_type": "execute_result"
    }
   ],
   "source": [
    "s = 'supercalifragilisticexpialidocious'\n",
    "i1 = iter(s)\n",
    "i2 = reversed(s)\n",
    "next(i1), next(i1), next(i1), next(i1), next(i1)"
   ]
  },
  {
   "cell_type": "code",
   "execution_count": 95,
   "metadata": {},
   "outputs": [
    {
     "data": {
      "text/plain": [
       "('s', 'u', 'o', 'i', 'c', 'o')"
      ]
     },
     "execution_count": 95,
     "metadata": {},
     "output_type": "execute_result"
    }
   ],
   "source": [
    "next(i2), next(i2), next(i2), next(i2), next(i2), next(i2)"
   ]
  },
  {
   "cell_type": "code",
   "execution_count": 96,
   "metadata": {},
   "outputs": [
    {
     "data": {
      "text/plain": [
       "('d', 'i', 'l')"
      ]
     },
     "execution_count": 96,
     "metadata": {},
     "output_type": "execute_result"
    }
   ],
   "source": [
    "next(i2), next(i2), next(i2)"
   ]
  },
  {
   "cell_type": "code",
   "execution_count": 91,
   "metadata": {},
   "outputs": [
    {
     "data": {
      "text/plain": [
       "'c-a-l-i-f-r-a-g-i-l-i-s-t-i-c-e-x-p-i-a-l-i-d-o-c-i-o-u-s'"
      ]
     },
     "execution_count": 91,
     "metadata": {},
     "output_type": "execute_result"
    }
   ],
   "source": [
    "'-'.join(i1)"
   ]
  },
  {
   "cell_type": "code",
   "execution_count": 92,
   "metadata": {},
   "outputs": [
    {
     "data": {
      "text/plain": [
       "''"
      ]
     },
     "execution_count": 92,
     "metadata": {},
     "output_type": "execute_result"
    }
   ],
   "source": [
    "'-'.join(i1)"
   ]
  },
  {
   "cell_type": "code",
   "execution_count": 93,
   "metadata": {},
   "outputs": [
    {
     "ename": "StopIteration",
     "evalue": "",
     "output_type": "error",
     "traceback": [
      "\u001b[0;31m---------------------------------------------------------------------------\u001b[0m",
      "\u001b[0;31mStopIteration\u001b[0m                             Traceback (most recent call last)",
      "\u001b[0;32m<ipython-input-93-cc9ef6da1ea7>\u001b[0m in \u001b[0;36m<module>\u001b[0;34m\u001b[0m\n\u001b[0;32m----> 1\u001b[0;31m \u001b[0mnext\u001b[0m\u001b[0;34m(\u001b[0m\u001b[0mi1\u001b[0m\u001b[0;34m)\u001b[0m\u001b[0;34m\u001b[0m\u001b[0;34m\u001b[0m\u001b[0m\n\u001b[0m",
      "\u001b[0;31mStopIteration\u001b[0m: "
     ]
    }
   ],
   "source": [
    "next(i1)"
   ]
  },
  {
   "cell_type": "code",
   "execution_count": 97,
   "metadata": {},
   "outputs": [
    {
     "data": {
      "text/plain": [
       "<str_iterator at 0x7faceffa80f0>"
      ]
     },
     "execution_count": 97,
     "metadata": {},
     "output_type": "execute_result"
    }
   ],
   "source": [
    "i1"
   ]
  },
  {
   "cell_type": "code",
   "execution_count": 98,
   "metadata": {},
   "outputs": [
    {
     "data": {
      "text/plain": [
       "<reversed at 0x7faceffa8128>"
      ]
     },
     "execution_count": 98,
     "metadata": {},
     "output_type": "execute_result"
    }
   ],
   "source": [
    "i2"
   ]
  },
  {
   "cell_type": "code",
   "execution_count": 111,
   "metadata": {},
   "outputs": [
    {
     "data": {
      "text/plain": [
       "9"
      ]
     },
     "execution_count": 111,
     "metadata": {},
     "output_type": "execute_result"
    }
   ],
   "source": [
    "numbers = [9, 18, 27]\n",
    "i3 = iter(numbers)\n",
    "next(i3)"
   ]
  },
  {
   "cell_type": "code",
   "execution_count": 112,
   "metadata": {},
   "outputs": [
    {
     "data": {
      "text/plain": [
       "[53, 42, 9, 18, 27]"
      ]
     },
     "execution_count": 112,
     "metadata": {},
     "output_type": "execute_result"
    }
   ],
   "source": [
    "numbers.insert(0, 42)\n",
    "numbers.insert(0, 53)\n",
    "numbers"
   ]
  },
  {
   "cell_type": "code",
   "execution_count": 113,
   "metadata": {},
   "outputs": [
    {
     "data": {
      "text/plain": [
       "42"
      ]
     },
     "execution_count": 113,
     "metadata": {},
     "output_type": "execute_result"
    }
   ],
   "source": [
    "next(i3)"
   ]
  },
  {
   "cell_type": "code",
   "execution_count": 114,
   "metadata": {},
   "outputs": [
    {
     "data": {
      "text/plain": [
       "9"
      ]
     },
     "execution_count": 114,
     "metadata": {},
     "output_type": "execute_result"
    }
   ],
   "source": [
    "next(i3)"
   ]
  },
  {
   "cell_type": "code",
   "execution_count": 115,
   "metadata": {},
   "outputs": [
    {
     "data": {
      "text/plain": [
       "<list_iterator at 0x7faceffa8b70>"
      ]
     },
     "execution_count": 115,
     "metadata": {},
     "output_type": "execute_result"
    }
   ],
   "source": [
    "i3"
   ]
  },
  {
   "cell_type": "code",
   "execution_count": null,
   "metadata": {},
   "outputs": [],
   "source": []
  }
 ],
 "metadata": {
  "kernelspec": {
   "display_name": "Python 3",
   "language": "python",
   "name": "python3"
  },
  "language_info": {
   "codemirror_mode": {
    "name": "ipython",
    "version": 3
   },
   "file_extension": ".py",
   "mimetype": "text/x-python",
   "name": "python",
   "nbconvert_exporter": "python",
   "pygments_lexer": "ipython3",
   "version": "3.6.7"
  }
 },
 "nbformat": 4,
 "nbformat_minor": 2
}
