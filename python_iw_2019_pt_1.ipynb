{
 "cells": [
  {
   "cell_type": "markdown",
   "metadata": {},
   "source": [
    "# TOC\n",
    "\n",
    "- flavour of python\n",
    "- names and values\n",
    "- int, float and Decimal\n",
    "- tuple, list, dict and set\n",
    "- container performance\n",
    "- json and yaml\n",
    "- iteration\n",
    "\n",
    "\n",
    "- strings and files\n",
    "- string formatting\n",
    "- string performance\n",
    "- workshop: text processing\n",
    "\n",
    "\n",
    "- functions and parameters\n",
    "- packing and unpacking\n",
    "- decorators\n",
    "\n",
    "\n",
    "- if, elif and else\n",
    "- for, break, continue and else\n",
    "- try, except, finally and else\n",
    "- workshop: user input handling\n",
    "\n",
    "\n",
    "- generators\n",
    "- context managers\n",
    "\n",
    "\n",
    "- classes and attributes\n",
    "- special methods\n",
    "- descriptors\n",
    "- dynamic attributes\n",
    "- custom container\n",
    "- subclasses and MRO\n",
    "- metaclasses\n",
    "\n",
    "\n",
    "- virtual environments\n",
    "- modules and packages\n",
    "- custom exceptions\n",
    "- pip and pypi\n",
    "- workshop: cowsay\n",
    "\n"
   ]
  },
  {
   "cell_type": "markdown",
   "metadata": {},
   "source": [
    "## flavour of python\n",
    "\n",
    "- easy to read\n",
    "- imperative, functional, OO, aysnc\n",
    "- Don't Repeat Yourself\n",
    "- rich standard library\n",
    "- massive community and tools\n",
    "- education, embedded, web, games, data science\n",
    "\n",
    "\n",
    "\n",
    "\n"
   ]
  },
  {
   "cell_type": "markdown",
   "metadata": {},
   "source": [
    "## names and values"
   ]
  },
  {
   "cell_type": "code",
   "execution_count": 18,
   "metadata": {},
   "outputs": [
    {
     "data": {
      "text/plain": [
       "33"
      ]
     },
     "execution_count": 18,
     "metadata": {},
     "output_type": "execute_result"
    }
   ],
   "source": [
    "# Can't use keywords as names: and, as, assert, break, class, ...\n",
    "from keyword import kwlist\n",
    "len(kwlist)"
   ]
  },
  {
   "cell_type": "code",
   "execution_count": 24,
   "metadata": {},
   "outputs": [
    {
     "data": {
      "text/plain": [
       "73"
      ]
     },
     "execution_count": 24,
     "metadata": {},
     "output_type": "execute_result"
    }
   ],
   "source": [
    "# Avoid builtins as names: abs, all, any, ascii, bin, bool, ...\n",
    "sum(b[0].islower() for b in dir(__builtins__))"
   ]
  },
  {
   "cell_type": "code",
   "execution_count": 25,
   "metadata": {},
   "outputs": [
    {
     "data": {
      "text/plain": [
       "71"
      ]
     },
     "execution_count": 25,
     "metadata": {},
     "output_type": "execute_result"
    }
   ],
   "source": [
    "# Others, mostly exceptions: AssertionError, AttributeError, ...\n",
    "sum(b[0].isupper() for b in dir(__builtins__))"
   ]
  },
  {
   "cell_type": "code",
   "execution_count": 30,
   "metadata": {},
   "outputs": [],
   "source": [
    "the_world_is_flat = True\n",
    "spam = 1\n",
    "word = 'Python'\n",
    "happy_whale = '''\n",
    "┈╱▔▔▔▔▔▔▔╲┏━╮╭━┓\n",
    "▕┈╭╮┈┈┈┈┈▕╰━╮╭━╯\n",
    "▕━━━╯┈┈┈┈┈╲━╯┃┈┈\n",
    "┈╲▂▂▂▂▂▂▂▂▂▂▂╯┈┈\n",
    "┈┈┈┈┈┈┈┈┈┈┈┈┈┈┈┈\n",
    "╭┳╭┳╭┳╭┳╭┳╭┳╭┳╭┳\n",
    "╯╰╯╰╯╰╯╰╯╰╯╰╯╰╯╰\n",
    "'''\n",
    "close_to_π = 3.14  # unicode letters allowed, not recommended"
   ]
  },
  {
   "cell_type": "code",
   "execution_count": 43,
   "metadata": {},
   "outputs": [
    {
     "ename": "SyntaxError",
     "evalue": "invalid character in identifier (<ipython-input-43-8fd59c7880d0>, line 1)",
     "output_type": "error",
     "traceback": [
      "\u001b[0;36m  File \u001b[0;32m\"<ipython-input-43-8fd59c7880d0>\"\u001b[0;36m, line \u001b[0;32m1\u001b[0m\n\u001b[0;31m    ☃ = 'frosty'  # unicode non-letters not allowed\u001b[0m\n\u001b[0m    ^\u001b[0m\n\u001b[0;31mSyntaxError\u001b[0m\u001b[0;31m:\u001b[0m invalid character in identifier\n"
     ]
    }
   ],
   "source": [
    "☃ = 'frosty'  # unicode non-letters not allowed"
   ]
  },
  {
   "cell_type": "code",
   "execution_count": 39,
   "metadata": {},
   "outputs": [
    {
     "name": "stdout",
     "output_type": "stream",
     "text": [
      "True\n"
     ]
    }
   ],
   "source": [
    "the_world_is_flat"
   ]
  },
  {
   "cell_type": "code",
   "execution_count": 40,
   "metadata": {},
   "outputs": [
    {
     "name": "stdout",
     "output_type": "stream",
     "text": [
      "1\n"
     ]
    }
   ],
   "source": [
    "spam"
   ]
  },
  {
   "cell_type": "code",
   "execution_count": 37,
   "metadata": {},
   "outputs": [
    {
     "data": {
      "text/plain": [
       "'Python'"
      ]
     },
     "execution_count": 37,
     "metadata": {},
     "output_type": "execute_result"
    }
   ],
   "source": [
    "# python repr\n",
    "word"
   ]
  },
  {
   "cell_type": "code",
   "execution_count": 38,
   "metadata": {},
   "outputs": [
    {
     "data": {
      "text/plain": [
       "'\\n┈╱▔▔▔▔▔▔▔╲┏━╮╭━┓\\n▕┈╭╮┈┈┈┈┈▕╰━╮╭━╯\\n▕━━━╯┈┈┈┈┈╲━╯┃┈┈\\n┈╲▂▂▂▂▂▂▂▂▂▂▂╯┈┈\\n┈┈┈┈┈┈┈┈┈┈┈┈┈┈┈┈\\n╭┳╭┳╭┳╭┳╭┳╭┳╭┳╭┳\\n╯╰╯╰╯╰╯╰╯╰╯╰╯╰╯╰\\n'"
      ]
     },
     "execution_count": 38,
     "metadata": {},
     "output_type": "execute_result"
    }
   ],
   "source": [
    "# python repr making a mess\n",
    "happy_whale"
   ]
  },
  {
   "cell_type": "code",
   "execution_count": 41,
   "metadata": {},
   "outputs": [
    {
     "name": "stdout",
     "output_type": "stream",
     "text": [
      "\n",
      "┈╱▔▔▔▔▔▔▔╲┏━╮╭━┓\n",
      "▕┈╭╮┈┈┈┈┈▕╰━╮╭━╯\n",
      "▕━━━╯┈┈┈┈┈╲━╯┃┈┈\n",
      "┈╲▂▂▂▂▂▂▂▂▂▂▂╯┈┈\n",
      "┈┈┈┈┈┈┈┈┈┈┈┈┈┈┈┈\n",
      "╭┳╭┳╭┳╭┳╭┳╭┳╭┳╭┳\n",
      "╯╰╯╰╯╰╯╰╯╰╯╰╯╰╯╰\n",
      "\n"
     ]
    }
   ],
   "source": [
    "print(happy_whale)"
   ]
  },
  {
   "cell_type": "code",
   "execution_count": 42,
   "metadata": {},
   "outputs": [
    {
     "data": {
      "text/plain": [
       "3.14"
      ]
     },
     "execution_count": 42,
     "metadata": {},
     "output_type": "execute_result"
    }
   ],
   "source": [
    "close_to_π"
   ]
  },
  {
   "cell_type": "markdown",
   "metadata": {},
   "source": [
    "## int, float and Decimal"
   ]
  },
  {
   "cell_type": "code",
   "execution_count": 44,
   "metadata": {},
   "outputs": [
    {
     "data": {
      "text/plain": [
       "4"
      ]
     },
     "execution_count": 44,
     "metadata": {},
     "output_type": "execute_result"
    }
   ],
   "source": [
    "2 + 2"
   ]
  },
  {
   "cell_type": "code",
   "execution_count": 1,
   "metadata": {},
   "outputs": [
    {
     "data": {
      "text/plain": [
       "'0.10000000000000001'"
      ]
     },
     "execution_count": 1,
     "metadata": {},
     "output_type": "execute_result"
    }
   ],
   "source": [
    "format(0.1, '.17f')"
   ]
  },
  {
   "cell_type": "code",
   "execution_count": null,
   "metadata": {},
   "outputs": [],
   "source": []
  },
  {
   "cell_type": "code",
   "execution_count": 3,
   "metadata": {},
   "outputs": [
    {
     "name": "stdout",
     "output_type": "stream",
     "text": [
      "\n",
      "┈╱▔▔▔▔▔▔▔╲┏━╮╭━┓\n",
      "▕┈╭╮┈┈┈┈┈▕╰━╮╭━╯\n",
      "▕━━━╯┈┈┈┈┈╲━╯┃┈┈\n",
      "┈╲▂▂▂▂▂▂▂▂▂▂▂╯┈┈\n",
      "┈┈┈┈┈┈┈┈┈┈┈┈┈┈┈┈\n",
      "╭┳╭┳╭┳╭┳╭┳╭┳╭┳╭┳\n",
      "╯╰╯╰╯╰╯╰╯╰╯╰╯╰╯╰\n",
      "\n"
     ]
    }
   ],
   "source": [
    "print('''\n",
    "┈╱▔▔▔▔▔▔▔╲┏━╮╭━┓\n",
    "▕┈╭╮┈┈┈┈┈▕╰━╮╭━╯\n",
    "▕━━━╯┈┈┈┈┈╲━╯┃┈┈\n",
    "┈╲▂▂▂▂▂▂▂▂▂▂▂╯┈┈\n",
    "┈┈┈┈┈┈┈┈┈┈┈┈┈┈┈┈\n",
    "╭┳╭┳╭┳╭┳╭┳╭┳╭┳╭┳\n",
    "╯╰╯╰╯╰╯╰╯╰╯╰╯╰╯╰\n",
    "''')\n"
   ]
  },
  {
   "cell_type": "code",
   "execution_count": null,
   "metadata": {},
   "outputs": [],
   "source": []
  }
 ],
 "metadata": {
  "kernelspec": {
   "display_name": "Python 3",
   "language": "python",
   "name": "python3"
  },
  "language_info": {
   "codemirror_mode": {
    "name": "ipython",
    "version": 3
   },
   "file_extension": ".py",
   "mimetype": "text/x-python",
   "name": "python",
   "nbconvert_exporter": "python",
   "pygments_lexer": "ipython3",
   "version": "3.6.7"
  }
 },
 "nbformat": 4,
 "nbformat_minor": 2
}
