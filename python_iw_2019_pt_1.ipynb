{
 "cells": [
  {
   "cell_type": "markdown",
   "metadata": {},
   "source": [
    "# TOC\n",
    "\n",
    "- flavour of python\n",
    "- names and values\n",
    "- int, float and Decimal\n",
    "- tuple, list, dict and set\n",
    "- container performance\n",
    "- json and yaml\n",
    "- iteration\n",
    "\n",
    "- strings and files\n",
    "- string formatting\n",
    "- string performance\n",
    "- workshop: text processing\n",
    "\n",
    "- functions and parameters\n",
    "- packing and unpacking\n",
    "- decorators\n",
    "\n",
    "- if, elif and else\n",
    "- for, break, continue and else\n",
    "- try, except, finally and else\n",
    "- workshop: user input handling\n",
    "\n",
    "- generators\n",
    "- context managers\n",
    "\n",
    "- classes and attributes\n",
    "- special methods\n",
    "- descriptors\n",
    "- dynamic attributes\n",
    "- custom container\n",
    "- subclasses and MRO\n",
    "- metaclasses\n",
    "\n",
    "- virtual environments\n",
    "- modules and packages\n",
    "- custom exceptions\n",
    "- pip and pypi\n",
    "- workshop: cowsay\n",
    "\n"
   ]
  },
  {
   "cell_type": "markdown",
   "metadata": {},
   "source": [
    "## flavour of python\n",
    "## names and values\n",
    "## containers and iteration\n",
    "## classes and attributes\n",
    "\n"
   ]
  },
  {
   "cell_type": "code",
   "execution_count": 1,
   "metadata": {},
   "outputs": [
    {
     "data": {
      "text/plain": [
       "'0.10000000000000001'"
      ]
     },
     "execution_count": 1,
     "metadata": {},
     "output_type": "execute_result"
    }
   ],
   "source": [
    "format(0.1, '.17f')"
   ]
  },
  {
   "cell_type": "code",
   "execution_count": 3,
   "metadata": {},
   "outputs": [
    {
     "name": "stdout",
     "output_type": "stream",
     "text": [
      "\n",
      "┈╱▔▔▔▔▔▔▔╲┏━╮╭━┓\n",
      "▕┈╭╮┈┈┈┈┈▕╰━╮╭━╯\n",
      "▕━━━╯┈┈┈┈┈╲━╯┃┈┈\n",
      "┈╲▂▂▂▂▂▂▂▂▂▂▂╯┈┈\n",
      "┈┈┈┈┈┈┈┈┈┈┈┈┈┈┈┈\n",
      "╭┳╭┳╭┳╭┳╭┳╭┳╭┳╭┳\n",
      "╯╰╯╰╯╰╯╰╯╰╯╰╯╰╯╰\n",
      "\n"
     ]
    }
   ],
   "source": [
    "print('''\n",
    "┈╱▔▔▔▔▔▔▔╲┏━╮╭━┓\n",
    "▕┈╭╮┈┈┈┈┈▕╰━╮╭━╯\n",
    "▕━━━╯┈┈┈┈┈╲━╯┃┈┈\n",
    "┈╲▂▂▂▂▂▂▂▂▂▂▂╯┈┈\n",
    "┈┈┈┈┈┈┈┈┈┈┈┈┈┈┈┈\n",
    "╭┳╭┳╭┳╭┳╭┳╭┳╭┳╭┳\n",
    "╯╰╯╰╯╰╯╰╯╰╯╰╯╰╯╰\n",
    "''')\n"
   ]
  },
  {
   "cell_type": "code",
   "execution_count": null,
   "metadata": {},
   "outputs": [],
   "source": []
  }
 ],
 "metadata": {
  "kernelspec": {
   "display_name": "Python 3",
   "language": "python",
   "name": "python3"
  },
  "language_info": {
   "codemirror_mode": {
    "name": "ipython",
    "version": 3
   },
   "file_extension": ".py",
   "mimetype": "text/x-python",
   "name": "python",
   "nbconvert_exporter": "python",
   "pygments_lexer": "ipython3",
   "version": "3.6.7"
  }
 },
 "nbformat": 4,
 "nbformat_minor": 2
}
